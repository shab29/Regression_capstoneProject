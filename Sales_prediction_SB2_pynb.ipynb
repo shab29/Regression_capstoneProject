{
  "nbformat": 4,
  "nbformat_minor": 0,
  "metadata": {
    "colab": {
      "provenance": [],
      "authorship_tag": "ABX9TyPzH64g+sDJ9pen4IWUvay8",
      "include_colab_link": true
    },
    "kernelspec": {
      "name": "python3",
      "display_name": "Python 3"
    },
    "language_info": {
      "name": "python"
    }
  },
  "cells": [
    {
      "cell_type": "markdown",
      "metadata": {
        "id": "view-in-github",
        "colab_type": "text"
      },
      "source": [
        "<a href=\"https://colab.research.google.com/github/shab29/Regression_capstoneProject/blob/main/Sales_prediction_SB2_pynb.ipynb\" target=\"_parent\"><img src=\"https://colab.research.google.com/assets/colab-badge.svg\" alt=\"Open In Colab\"/></a>"
      ]
    },
    {
      "cell_type": "code",
      "execution_count": 1,
      "metadata": {
        "id": "gaqRvYWpADfw"
      },
      "outputs": [],
      "source": [
        "# Importing the libraries\n",
        "import numpy as np\n",
        "import pandas as pd\n",
        "from numpy import math\n",
        "\n",
        "from sklearn.preprocessing import MinMaxScaler\n",
        "from sklearn.model_selection import train_test_split\n",
        "from sklearn.linear_model import LinearRegression\n",
        "from sklearn.metrics import r2_score\n",
        "from sklearn.metrics import mean_squared_error\n",
        "import seaborn as sns\n",
        "import matplotlib.pyplot as plt\n",
        "import warnings\n",
        "warnings.filterwarnings('ignore')\n",
        "from datetime import datetime"
      ]
    },
    {
      "cell_type": "code",
      "source": [
        "from google.colab import drive\n",
        "drive.mount('/content/drive')"
      ],
      "metadata": {
        "colab": {
          "base_uri": "https://localhost:8080/"
        },
        "id": "NtAK9xhjALZq",
        "outputId": "314efdc1-f697-48eb-b00e-c76150b5725e"
      },
      "execution_count": 2,
      "outputs": [
        {
          "output_type": "stream",
          "name": "stdout",
          "text": [
            "Mounted at /content/drive\n"
          ]
        }
      ]
    },
    {
      "cell_type": "code",
      "source": [
        "store_data=pd.read_csv('/content/drive/MyDrive/Colab Notebooks/AlmaBetter/Capstone_project/Regression_sale prediction/Data/Copy of store.csv')\n",
        "sale_data=pd.read_csv('/content/drive/MyDrive/Colab Notebooks/AlmaBetter/Capstone_project/Regression_sale prediction/Data/Copy of Rossmann Stores Data.csv')"
      ],
      "metadata": {
        "id": "t1ZBVazYAOks"
      },
      "execution_count": 3,
      "outputs": []
    },
    {
      "cell_type": "code",
      "source": [
        "store_data.info()"
      ],
      "metadata": {
        "colab": {
          "base_uri": "https://localhost:8080/"
        },
        "id": "fwY-84UHARBP",
        "outputId": "1d35a603-9b48-45ae-d7f6-09a93b844edc"
      },
      "execution_count": 4,
      "outputs": [
        {
          "output_type": "stream",
          "name": "stdout",
          "text": [
            "<class 'pandas.core.frame.DataFrame'>\n",
            "RangeIndex: 1115 entries, 0 to 1114\n",
            "Data columns (total 10 columns):\n",
            " #   Column                     Non-Null Count  Dtype  \n",
            "---  ------                     --------------  -----  \n",
            " 0   Store                      1115 non-null   int64  \n",
            " 1   StoreType                  1115 non-null   object \n",
            " 2   Assortment                 1115 non-null   object \n",
            " 3   CompetitionDistance        1112 non-null   float64\n",
            " 4   CompetitionOpenSinceMonth  761 non-null    float64\n",
            " 5   CompetitionOpenSinceYear   761 non-null    float64\n",
            " 6   Promo2                     1115 non-null   int64  \n",
            " 7   Promo2SinceWeek            571 non-null    float64\n",
            " 8   Promo2SinceYear            571 non-null    float64\n",
            " 9   PromoInterval              571 non-null    object \n",
            "dtypes: float64(5), int64(2), object(3)\n",
            "memory usage: 87.2+ KB\n"
          ]
        }
      ]
    },
    {
      "cell_type": "code",
      "source": [
        "sale_data.info()"
      ],
      "metadata": {
        "colab": {
          "base_uri": "https://localhost:8080/"
        },
        "id": "x0nXIsLIAYgi",
        "outputId": "d9e8ddc1-ffd4-42ba-cae0-e426c9e1c24f"
      },
      "execution_count": 5,
      "outputs": [
        {
          "output_type": "stream",
          "name": "stdout",
          "text": [
            "<class 'pandas.core.frame.DataFrame'>\n",
            "RangeIndex: 1017209 entries, 0 to 1017208\n",
            "Data columns (total 9 columns):\n",
            " #   Column         Non-Null Count    Dtype \n",
            "---  ------         --------------    ----- \n",
            " 0   Store          1017209 non-null  int64 \n",
            " 1   DayOfWeek      1017209 non-null  int64 \n",
            " 2   Date           1017209 non-null  object\n",
            " 3   Sales          1017209 non-null  int64 \n",
            " 4   Customers      1017209 non-null  int64 \n",
            " 5   Open           1017209 non-null  int64 \n",
            " 6   Promo          1017209 non-null  int64 \n",
            " 7   StateHoliday   1017209 non-null  object\n",
            " 8   SchoolHoliday  1017209 non-null  int64 \n",
            "dtypes: int64(7), object(2)\n",
            "memory usage: 69.8+ MB\n"
          ]
        }
      ]
    },
    {
      "cell_type": "markdown",
      "source": [
        "# Merge the Data using Store"
      ],
      "metadata": {
        "id": "ymjwEwz-Adt5"
      }
    },
    {
      "cell_type": "code",
      "source": [
        "DF=sale_data.merge(right=store_data,on=\"Store\",how=\"left\")"
      ],
      "metadata": {
        "id": "LOxnI0xpAdDK"
      },
      "execution_count": 6,
      "outputs": []
    },
    {
      "cell_type": "code",
      "source": [
        "#check for duplicate data\n",
        "print(DF.duplicated().sum())"
      ],
      "metadata": {
        "colab": {
          "base_uri": "https://localhost:8080/"
        },
        "id": "d6Mb7ZslFUm1",
        "outputId": "6f3a161d-8a10-4a20-bb45-6fd8efa15ee3"
      },
      "execution_count": 13,
      "outputs": [
        {
          "output_type": "stream",
          "name": "stdout",
          "text": [
            "0\n"
          ]
        }
      ]
    },
    {
      "cell_type": "code",
      "source": [
        "DF.head()"
      ],
      "metadata": {
        "colab": {
          "base_uri": "https://localhost:8080/",
          "height": 357
        },
        "id": "jbOGVpShAoO7",
        "outputId": "d5028b94-312d-4ee4-ea45-32911e951e6b"
      },
      "execution_count": 7,
      "outputs": [
        {
          "output_type": "execute_result",
          "data": {
            "text/plain": [
              "   Store  DayOfWeek        Date  Sales  Customers  Open  Promo StateHoliday  \\\n",
              "0      1          5  2015-07-31   5263        555     1      1            0   \n",
              "1      2          5  2015-07-31   6064        625     1      1            0   \n",
              "2      3          5  2015-07-31   8314        821     1      1            0   \n",
              "3      4          5  2015-07-31  13995       1498     1      1            0   \n",
              "4      5          5  2015-07-31   4822        559     1      1            0   \n",
              "\n",
              "   SchoolHoliday StoreType Assortment  CompetitionDistance  \\\n",
              "0              1         c          a               1270.0   \n",
              "1              1         a          a                570.0   \n",
              "2              1         a          a              14130.0   \n",
              "3              1         c          c                620.0   \n",
              "4              1         a          a              29910.0   \n",
              "\n",
              "   CompetitionOpenSinceMonth  CompetitionOpenSinceYear  Promo2  \\\n",
              "0                        9.0                    2008.0       0   \n",
              "1                       11.0                    2007.0       1   \n",
              "2                       12.0                    2006.0       1   \n",
              "3                        9.0                    2009.0       0   \n",
              "4                        4.0                    2015.0       0   \n",
              "\n",
              "   Promo2SinceWeek  Promo2SinceYear    PromoInterval  \n",
              "0              NaN              NaN              NaN  \n",
              "1             13.0           2010.0  Jan,Apr,Jul,Oct  \n",
              "2             14.0           2011.0  Jan,Apr,Jul,Oct  \n",
              "3              NaN              NaN              NaN  \n",
              "4              NaN              NaN              NaN  "
            ],
            "text/html": [
              "\n",
              "  <div id=\"df-538af99b-268a-432e-9080-f7131d9c8e73\">\n",
              "    <div class=\"colab-df-container\">\n",
              "      <div>\n",
              "<style scoped>\n",
              "    .dataframe tbody tr th:only-of-type {\n",
              "        vertical-align: middle;\n",
              "    }\n",
              "\n",
              "    .dataframe tbody tr th {\n",
              "        vertical-align: top;\n",
              "    }\n",
              "\n",
              "    .dataframe thead th {\n",
              "        text-align: right;\n",
              "    }\n",
              "</style>\n",
              "<table border=\"1\" class=\"dataframe\">\n",
              "  <thead>\n",
              "    <tr style=\"text-align: right;\">\n",
              "      <th></th>\n",
              "      <th>Store</th>\n",
              "      <th>DayOfWeek</th>\n",
              "      <th>Date</th>\n",
              "      <th>Sales</th>\n",
              "      <th>Customers</th>\n",
              "      <th>Open</th>\n",
              "      <th>Promo</th>\n",
              "      <th>StateHoliday</th>\n",
              "      <th>SchoolHoliday</th>\n",
              "      <th>StoreType</th>\n",
              "      <th>Assortment</th>\n",
              "      <th>CompetitionDistance</th>\n",
              "      <th>CompetitionOpenSinceMonth</th>\n",
              "      <th>CompetitionOpenSinceYear</th>\n",
              "      <th>Promo2</th>\n",
              "      <th>Promo2SinceWeek</th>\n",
              "      <th>Promo2SinceYear</th>\n",
              "      <th>PromoInterval</th>\n",
              "    </tr>\n",
              "  </thead>\n",
              "  <tbody>\n",
              "    <tr>\n",
              "      <th>0</th>\n",
              "      <td>1</td>\n",
              "      <td>5</td>\n",
              "      <td>2015-07-31</td>\n",
              "      <td>5263</td>\n",
              "      <td>555</td>\n",
              "      <td>1</td>\n",
              "      <td>1</td>\n",
              "      <td>0</td>\n",
              "      <td>1</td>\n",
              "      <td>c</td>\n",
              "      <td>a</td>\n",
              "      <td>1270.0</td>\n",
              "      <td>9.0</td>\n",
              "      <td>2008.0</td>\n",
              "      <td>0</td>\n",
              "      <td>NaN</td>\n",
              "      <td>NaN</td>\n",
              "      <td>NaN</td>\n",
              "    </tr>\n",
              "    <tr>\n",
              "      <th>1</th>\n",
              "      <td>2</td>\n",
              "      <td>5</td>\n",
              "      <td>2015-07-31</td>\n",
              "      <td>6064</td>\n",
              "      <td>625</td>\n",
              "      <td>1</td>\n",
              "      <td>1</td>\n",
              "      <td>0</td>\n",
              "      <td>1</td>\n",
              "      <td>a</td>\n",
              "      <td>a</td>\n",
              "      <td>570.0</td>\n",
              "      <td>11.0</td>\n",
              "      <td>2007.0</td>\n",
              "      <td>1</td>\n",
              "      <td>13.0</td>\n",
              "      <td>2010.0</td>\n",
              "      <td>Jan,Apr,Jul,Oct</td>\n",
              "    </tr>\n",
              "    <tr>\n",
              "      <th>2</th>\n",
              "      <td>3</td>\n",
              "      <td>5</td>\n",
              "      <td>2015-07-31</td>\n",
              "      <td>8314</td>\n",
              "      <td>821</td>\n",
              "      <td>1</td>\n",
              "      <td>1</td>\n",
              "      <td>0</td>\n",
              "      <td>1</td>\n",
              "      <td>a</td>\n",
              "      <td>a</td>\n",
              "      <td>14130.0</td>\n",
              "      <td>12.0</td>\n",
              "      <td>2006.0</td>\n",
              "      <td>1</td>\n",
              "      <td>14.0</td>\n",
              "      <td>2011.0</td>\n",
              "      <td>Jan,Apr,Jul,Oct</td>\n",
              "    </tr>\n",
              "    <tr>\n",
              "      <th>3</th>\n",
              "      <td>4</td>\n",
              "      <td>5</td>\n",
              "      <td>2015-07-31</td>\n",
              "      <td>13995</td>\n",
              "      <td>1498</td>\n",
              "      <td>1</td>\n",
              "      <td>1</td>\n",
              "      <td>0</td>\n",
              "      <td>1</td>\n",
              "      <td>c</td>\n",
              "      <td>c</td>\n",
              "      <td>620.0</td>\n",
              "      <td>9.0</td>\n",
              "      <td>2009.0</td>\n",
              "      <td>0</td>\n",
              "      <td>NaN</td>\n",
              "      <td>NaN</td>\n",
              "      <td>NaN</td>\n",
              "    </tr>\n",
              "    <tr>\n",
              "      <th>4</th>\n",
              "      <td>5</td>\n",
              "      <td>5</td>\n",
              "      <td>2015-07-31</td>\n",
              "      <td>4822</td>\n",
              "      <td>559</td>\n",
              "      <td>1</td>\n",
              "      <td>1</td>\n",
              "      <td>0</td>\n",
              "      <td>1</td>\n",
              "      <td>a</td>\n",
              "      <td>a</td>\n",
              "      <td>29910.0</td>\n",
              "      <td>4.0</td>\n",
              "      <td>2015.0</td>\n",
              "      <td>0</td>\n",
              "      <td>NaN</td>\n",
              "      <td>NaN</td>\n",
              "      <td>NaN</td>\n",
              "    </tr>\n",
              "  </tbody>\n",
              "</table>\n",
              "</div>\n",
              "      <button class=\"colab-df-convert\" onclick=\"convertToInteractive('df-538af99b-268a-432e-9080-f7131d9c8e73')\"\n",
              "              title=\"Convert this dataframe to an interactive table.\"\n",
              "              style=\"display:none;\">\n",
              "        \n",
              "  <svg xmlns=\"http://www.w3.org/2000/svg\" height=\"24px\"viewBox=\"0 0 24 24\"\n",
              "       width=\"24px\">\n",
              "    <path d=\"M0 0h24v24H0V0z\" fill=\"none\"/>\n",
              "    <path d=\"M18.56 5.44l.94 2.06.94-2.06 2.06-.94-2.06-.94-.94-2.06-.94 2.06-2.06.94zm-11 1L8.5 8.5l.94-2.06 2.06-.94-2.06-.94L8.5 2.5l-.94 2.06-2.06.94zm10 10l.94 2.06.94-2.06 2.06-.94-2.06-.94-.94-2.06-.94 2.06-2.06.94z\"/><path d=\"M17.41 7.96l-1.37-1.37c-.4-.4-.92-.59-1.43-.59-.52 0-1.04.2-1.43.59L10.3 9.45l-7.72 7.72c-.78.78-.78 2.05 0 2.83L4 21.41c.39.39.9.59 1.41.59.51 0 1.02-.2 1.41-.59l7.78-7.78 2.81-2.81c.8-.78.8-2.07 0-2.86zM5.41 20L4 18.59l7.72-7.72 1.47 1.35L5.41 20z\"/>\n",
              "  </svg>\n",
              "      </button>\n",
              "      \n",
              "  <style>\n",
              "    .colab-df-container {\n",
              "      display:flex;\n",
              "      flex-wrap:wrap;\n",
              "      gap: 12px;\n",
              "    }\n",
              "\n",
              "    .colab-df-convert {\n",
              "      background-color: #E8F0FE;\n",
              "      border: none;\n",
              "      border-radius: 50%;\n",
              "      cursor: pointer;\n",
              "      display: none;\n",
              "      fill: #1967D2;\n",
              "      height: 32px;\n",
              "      padding: 0 0 0 0;\n",
              "      width: 32px;\n",
              "    }\n",
              "\n",
              "    .colab-df-convert:hover {\n",
              "      background-color: #E2EBFA;\n",
              "      box-shadow: 0px 1px 2px rgba(60, 64, 67, 0.3), 0px 1px 3px 1px rgba(60, 64, 67, 0.15);\n",
              "      fill: #174EA6;\n",
              "    }\n",
              "\n",
              "    [theme=dark] .colab-df-convert {\n",
              "      background-color: #3B4455;\n",
              "      fill: #D2E3FC;\n",
              "    }\n",
              "\n",
              "    [theme=dark] .colab-df-convert:hover {\n",
              "      background-color: #434B5C;\n",
              "      box-shadow: 0px 1px 3px 1px rgba(0, 0, 0, 0.15);\n",
              "      filter: drop-shadow(0px 1px 2px rgba(0, 0, 0, 0.3));\n",
              "      fill: #FFFFFF;\n",
              "    }\n",
              "  </style>\n",
              "\n",
              "      <script>\n",
              "        const buttonEl =\n",
              "          document.querySelector('#df-538af99b-268a-432e-9080-f7131d9c8e73 button.colab-df-convert');\n",
              "        buttonEl.style.display =\n",
              "          google.colab.kernel.accessAllowed ? 'block' : 'none';\n",
              "\n",
              "        async function convertToInteractive(key) {\n",
              "          const element = document.querySelector('#df-538af99b-268a-432e-9080-f7131d9c8e73');\n",
              "          const dataTable =\n",
              "            await google.colab.kernel.invokeFunction('convertToInteractive',\n",
              "                                                     [key], {});\n",
              "          if (!dataTable) return;\n",
              "\n",
              "          const docLinkHtml = 'Like what you see? Visit the ' +\n",
              "            '<a target=\"_blank\" href=https://colab.research.google.com/notebooks/data_table.ipynb>data table notebook</a>'\n",
              "            + ' to learn more about interactive tables.';\n",
              "          element.innerHTML = '';\n",
              "          dataTable['output_type'] = 'display_data';\n",
              "          await google.colab.output.renderOutput(dataTable, element);\n",
              "          const docLink = document.createElement('div');\n",
              "          docLink.innerHTML = docLinkHtml;\n",
              "          element.appendChild(docLink);\n",
              "        }\n",
              "      </script>\n",
              "    </div>\n",
              "  </div>\n",
              "  "
            ]
          },
          "metadata": {},
          "execution_count": 7
        }
      ]
    },
    {
      "cell_type": "code",
      "source": [
        "DF.info()"
      ],
      "metadata": {
        "colab": {
          "base_uri": "https://localhost:8080/"
        },
        "id": "dqCOa8OUEjxS",
        "outputId": "294cecca-6790-4e77-abc1-0e56e871286f"
      },
      "execution_count": 12,
      "outputs": [
        {
          "output_type": "stream",
          "name": "stdout",
          "text": [
            "<class 'pandas.core.frame.DataFrame'>\n",
            "Int64Index: 1017209 entries, 0 to 1017208\n",
            "Data columns (total 18 columns):\n",
            " #   Column                     Non-Null Count    Dtype  \n",
            "---  ------                     --------------    -----  \n",
            " 0   Store                      1017209 non-null  int64  \n",
            " 1   DayOfWeek                  1017209 non-null  int64  \n",
            " 2   Date                       1017209 non-null  object \n",
            " 3   Sales                      1017209 non-null  int64  \n",
            " 4   Customers                  1017209 non-null  int64  \n",
            " 5   Open                       1017209 non-null  int64  \n",
            " 6   Promo                      1017209 non-null  int64  \n",
            " 7   StateHoliday               1017209 non-null  object \n",
            " 8   SchoolHoliday              1017209 non-null  int64  \n",
            " 9   StoreType                  1017209 non-null  object \n",
            " 10  Assortment                 1017209 non-null  object \n",
            " 11  CompetitionDistance        1014567 non-null  float64\n",
            " 12  CompetitionOpenSinceMonth  693861 non-null   float64\n",
            " 13  CompetitionOpenSinceYear   693861 non-null   float64\n",
            " 14  Promo2                     1017209 non-null  int64  \n",
            " 15  Promo2SinceWeek            509178 non-null   float64\n",
            " 16  Promo2SinceYear            509178 non-null   float64\n",
            " 17  PromoInterval              509178 non-null   object \n",
            "dtypes: float64(5), int64(8), object(5)\n",
            "memory usage: 147.5+ MB\n"
          ]
        }
      ]
    },
    {
      "cell_type": "markdown",
      "source": [
        "* Convert the Date into Date time format."
      ],
      "metadata": {
        "id": "TfKkp8onE7sp"
      }
    },
    {
      "cell_type": "code",
      "source": [
        "from datetime import datetime\n",
        "DF[\"Date\"] = DF[\"Date\"].astype(np.datetime64)"
      ],
      "metadata": {
        "id": "LiGZirqiE7GI"
      },
      "execution_count": 14,
      "outputs": []
    },
    {
      "cell_type": "code",
      "source": [
        "DF.isnull().sum()"
      ],
      "metadata": {
        "colab": {
          "base_uri": "https://localhost:8080/"
        },
        "id": "_yI4GyrgD7o2",
        "outputId": "897939b6-010e-4c6a-cc6a-d991a85d5add"
      },
      "execution_count": 8,
      "outputs": [
        {
          "output_type": "execute_result",
          "data": {
            "text/plain": [
              "Store                             0\n",
              "DayOfWeek                         0\n",
              "Date                              0\n",
              "Sales                             0\n",
              "Customers                         0\n",
              "Open                              0\n",
              "Promo                             0\n",
              "StateHoliday                      0\n",
              "SchoolHoliday                     0\n",
              "StoreType                         0\n",
              "Assortment                        0\n",
              "CompetitionDistance            2642\n",
              "CompetitionOpenSinceMonth    323348\n",
              "CompetitionOpenSinceYear     323348\n",
              "Promo2                            0\n",
              "Promo2SinceWeek              508031\n",
              "Promo2SinceYear              508031\n",
              "PromoInterval                508031\n",
              "dtype: int64"
            ]
          },
          "metadata": {},
          "execution_count": 8
        }
      ]
    },
    {
      "cell_type": "markdown",
      "source": [
        "* There are null values in Competion Distance, Competition Opend Since Month, Competition Open Since Year, Promo2SinceWeek, Promo2SinceYear, PromoInterval.\n",
        "* Promo2SinceWeek and year has equal number of null values. It is because when there is no promo2 that means there will be no value in Promo2SinceWeek and Promo2SinceYear.\n"
      ],
      "metadata": {
        "id": "YCULF-vVEccv"
      }
    },
    {
      "cell_type": "markdown",
      "source": [
        "# Filling the null values"
      ],
      "metadata": {
        "id": "Ch3nHAopGE5w"
      }
    },
    {
      "cell_type": "code",
      "source": [
        "#checking the distribution of CompetitionDistance\n",
        "plt.subplots(figsize=(10, 6))\n",
        "sns.distplot(x = DF[\"CompetitionDistance\"])\n",
        "plt.xlabel(\"CompetitionDistance\")\n",
        "plt.ylabel(\"PDF\")\n"
      ],
      "metadata": {
        "colab": {
          "base_uri": "https://localhost:8080/",
          "height": 406
        },
        "id": "6yu543jqEMRG",
        "outputId": "96eb6de7-ded6-4208-a14a-5cf9d5d39090"
      },
      "execution_count": 15,
      "outputs": [
        {
          "output_type": "execute_result",
          "data": {
            "text/plain": [
              "Text(0, 0.5, 'PDF')"
            ]
          },
          "metadata": {},
          "execution_count": 15
        },
        {
          "output_type": "display_data",
          "data": {
            "text/plain": [
              "<Figure size 720x432 with 1 Axes>"
            ],
            "image/png": "[encoded data removed]"
          },
          "metadata": {
            "needs_background": "light"
          }
        }
      ]
    },
    {
      "cell_type": "code",
      "source": [
        "#Checking the median of Competition Distance according to each store type\n",
        "DF.groupby(['StoreType'])['CompetitionDistance'].median()"
      ],
      "metadata": {
        "colab": {
          "base_uri": "https://localhost:8080/"
        },
        "id": "WaBwE9f3GwKX",
        "outputId": "a29e4fe3-01eb-40d1-f885-76c9a4bcb934"
      },
      "execution_count": 16,
      "outputs": [
        {
          "output_type": "execute_result",
          "data": {
            "text/plain": [
              "StoreType\n",
              "a    1790.0\n",
              "b     900.0\n",
              "c    1650.0\n",
              "d    5070.0\n",
              "Name: CompetitionDistance, dtype: float64"
            ]
          },
          "metadata": {},
          "execution_count": 16
        }
      ]
    },
    {
      "cell_type": "markdown",
      "source": [
        "* We will fill up the NaN in Competition distance according to median of each store type."
      ],
      "metadata": {
        "id": "jWvbRxgtHMhn"
      }
    },
    {
      "cell_type": "code",
      "source": [
        "#Finding the median distance for each store type\n",
        "median_a=round(DF.loc[(DF['StoreType'] == 'a'), 'CompetitionDistance'].median(), 1)\n",
        "median_b=round(DF.loc[(DF['StoreType'] == 'b'), 'CompetitionDistance'].median(), 1)\n",
        "median_c=round(DF.loc[(DF['StoreType'] == 'c'), 'CompetitionDistance'].median(), 1)\n",
        "median_d=round(DF.loc[(DF['StoreType'] == 'd'), 'CompetitionDistance'].median(), 1)"
      ],
      "metadata": {
        "id": "4YYkAXbHHK_V"
      },
      "execution_count": 17,
      "outputs": []
    },
    {
      "cell_type": "code",
      "source": [
        "#filling the null values of CompetitionDistance according to store type\n",
        "DF.loc[DF['StoreType']=='a']=DF.loc[DF['StoreType']=='a'].fillna(value={'CompetitionDistance':median_a})\n",
        "DF.loc[DF['StoreType']=='b']=DF.loc[DF['StoreType']=='b'].fillna(value={'CompetitionDistance':median_b})\n",
        "DF.loc[DF['StoreType']=='c']=DF.loc[DF['StoreType']=='c'].fillna(value={'CompetitionDistance':median_c})\n",
        "DF.loc[DF['StoreType']=='d']=DF.loc[DF['StoreType']=='d'].fillna(value={'CompetitionDistance':median_d})"
      ],
      "metadata": {
        "id": "Z_guMmnNHhIz"
      },
      "execution_count": 18,
      "outputs": []
    },
    {
      "cell_type": "code",
      "source": [
        "DF.isnull().sum()"
      ],
      "metadata": {
        "colab": {
          "base_uri": "https://localhost:8080/"
        },
        "id": "OXAm_NezHl4G",
        "outputId": "515e6766-5e62-422d-822a-8e94796cd09e"
      },
      "execution_count": 19,
      "outputs": [
        {
          "output_type": "execute_result",
          "data": {
            "text/plain": [
              "Store                             0\n",
              "DayOfWeek                         0\n",
              "Date                              0\n",
              "Sales                             0\n",
              "Customers                         0\n",
              "Open                              0\n",
              "Promo                             0\n",
              "StateHoliday                      0\n",
              "SchoolHoliday                     0\n",
              "StoreType                         0\n",
              "Assortment                        0\n",
              "CompetitionDistance               0\n",
              "CompetitionOpenSinceMonth    323348\n",
              "CompetitionOpenSinceYear     323348\n",
              "Promo2                            0\n",
              "Promo2SinceWeek              508031\n",
              "Promo2SinceYear              508031\n",
              "PromoInterval                508031\n",
              "dtype: int64"
            ]
          },
          "metadata": {},
          "execution_count": 19
        }
      ]
    },
    {
      "cell_type": "markdown",
      "source": [
        "* Now we have 0 null values in Competition Distance."
      ],
      "metadata": {
        "id": "pxI-f62xHq5l"
      }
    },
    {
      "cell_type": "code",
      "source": [
        "#Check the distribution of CompetitionOpenSinceMonth\n",
        "plt.subplots(figsize=(10, 6))\n",
        "sns.distplot(x = DF[\"CompetitionOpenSinceMonth\"].value_counts())\n",
        "plt.xlabel(\"CompetitionOpenSinceMonth\")\n",
        "plt.ylabel(\"PDF\")"
      ],
      "metadata": {
        "colab": {
          "base_uri": "https://localhost:8080/",
          "height": 417
        },
        "id": "RB5gH2nJHpoz",
        "outputId": "4f9e6345-069c-4658-bfff-4d0da0e5cc4e"
      },
      "execution_count": 21,
      "outputs": [
        {
          "output_type": "execute_result",
          "data": {
            "text/plain": [
              "Text(0, 0.5, 'PDF')"
            ]
          },
          "metadata": {},
          "execution_count": 21
        },
        {
          "output_type": "display_data",
          "data": {
            "text/plain": [
              "<Figure size 720x432 with 1 Axes>"
            ],
            "image/png": "[encoded data removed]"
          },
          "metadata": {
            "needs_background": "light"
          }
        }
      ]
    },
    {
      "cell_type": "markdown",
      "source": [
        "* The distribution is symmetric, so mean and median will be approximately symmetrical. We can use any of them to fill NaN."
      ],
      "metadata": {
        "id": "VQ4VHD-XIoZ9"
      }
    },
    {
      "cell_type": "code",
      "source": [
        "#Let's check mean value for CompetitionOpenSinceMonth according to each store type\n",
        "DF.groupby(['StoreType'])['CompetitionOpenSinceMonth'].mean()"
      ],
      "metadata": {
        "colab": {
          "base_uri": "https://localhost:8080/"
        },
        "id": "mf-n81o4IUMc",
        "outputId": "ea95d164-506a-4252-84da-e019cdf48811"
      },
      "execution_count": 24,
      "outputs": [
        {
          "output_type": "execute_result",
          "data": {
            "text/plain": [
              "StoreType\n",
              "a    7.176508\n",
              "b    6.666667\n",
              "c    7.048265\n",
              "d    7.426956\n",
              "Name: CompetitionOpenSinceMonth, dtype: float64"
            ]
          },
          "metadata": {},
          "execution_count": 24
        }
      ]
    },
    {
      "cell_type": "code",
      "source": [
        "DF.groupby(['StoreType'])['CompetitionOpenSinceMonth'].median()"
      ],
      "metadata": {
        "colab": {
          "base_uri": "https://localhost:8080/"
        },
        "id": "A7lQZg5lI8Dw",
        "outputId": "37f258f7-7cee-4674-ae17-10426ba11a15"
      },
      "execution_count": 25,
      "outputs": [
        {
          "output_type": "execute_result",
          "data": {
            "text/plain": [
              "StoreType\n",
              "a    8.0\n",
              "b    6.0\n",
              "c    7.0\n",
              "d    8.0\n",
              "Name: CompetitionOpenSinceMonth, dtype: float64"
            ]
          },
          "metadata": {},
          "execution_count": 25
        }
      ]
    },
    {
      "cell_type": "markdown",
      "source": [
        "* we will use the median since it is a whole number."
      ],
      "metadata": {
        "id": "4qFxWiMjJSkH"
      }
    },
    {
      "cell_type": "code",
      "source": [
        "#Finding the median month for each store type\n",
        "medianMonth_a=round(DF.loc[(DF['StoreType'] == 'a'), 'CompetitionOpenSinceMonth'].median(), 1)\n",
        "medianMonth_b=round(DF.loc[(DF['StoreType'] == 'b'), 'CompetitionOpenSinceMonth'].median(), 1)\n",
        "medianMonth_c=round(DF.loc[(DF['StoreType'] == 'c'), 'CompetitionOpenSinceMonth'].median(), 1)\n",
        "medianMonth_d=round(DF.loc[(DF['StoreType'] == 'd'), 'CompetitionOpenSinceMonth'].median(), 1)"
      ],
      "metadata": {
        "id": "-Xw9fS5uJPr6"
      },
      "execution_count": 26,
      "outputs": []
    },
    {
      "cell_type": "code",
      "source": [
        "#filling the null values of CompetitionOpenSinceMonth according to store type\n",
        "DF.loc[DF['StoreType']=='a']=DF.loc[DF['StoreType']=='a'].fillna(value={'CompetitionOpenSinceMonth':medianMonth_a})\n",
        "DF.loc[DF['StoreType']=='b']=DF.loc[DF['StoreType']=='b'].fillna(value={'CompetitionOpenSinceMonth':medianMonth_b})\n",
        "DF.loc[DF['StoreType']=='c']=DF.loc[DF['StoreType']=='c'].fillna(value={'CompetitionOpenSinceMonth':medianMonth_c})\n",
        "DF.loc[DF['StoreType']=='d']=DF.loc[DF['StoreType']=='d'].fillna(value={'CompetitionOpenSinceMonth':medianMonth_d})"
      ],
      "metadata": {
        "id": "NMJ7W8SSJlTK"
      },
      "execution_count": 27,
      "outputs": []
    },
    {
      "cell_type": "code",
      "source": [
        "DF.isnull().sum()"
      ],
      "metadata": {
        "colab": {
          "base_uri": "https://localhost:8080/"
        },
        "id": "5Oq4EcRzJn5S",
        "outputId": "a7a0a8c7-b167-4d8a-cc9b-31169d91e348"
      },
      "execution_count": 28,
      "outputs": [
        {
          "output_type": "execute_result",
          "data": {
            "text/plain": [
              "Store                             0\n",
              "DayOfWeek                         0\n",
              "Date                              0\n",
              "Sales                             0\n",
              "Customers                         0\n",
              "Open                              0\n",
              "Promo                             0\n",
              "StateHoliday                      0\n",
              "SchoolHoliday                     0\n",
              "StoreType                         0\n",
              "Assortment                        0\n",
              "CompetitionDistance               0\n",
              "CompetitionOpenSinceMonth         0\n",
              "CompetitionOpenSinceYear     323348\n",
              "Promo2                            0\n",
              "Promo2SinceWeek              508031\n",
              "Promo2SinceYear              508031\n",
              "PromoInterval                508031\n",
              "dtype: int64"
            ]
          },
          "metadata": {},
          "execution_count": 28
        }
      ]
    },
    {
      "cell_type": "markdown",
      "source": [
        "* There are 0 null values in CompetitionOpenSinceMonth now.\n",
        "* We can use same approach for CompetitionOpenSinceYear."
      ],
      "metadata": {
        "id": "V4yFtMdsJ4XU"
      }
    },
    {
      "cell_type": "code",
      "source": [
        "DF.groupby(['StoreType'])['CompetitionOpenSinceYear'].median()"
      ],
      "metadata": {
        "colab": {
          "base_uri": "https://localhost:8080/"
        },
        "id": "a_yj4IgrJ2lU",
        "outputId": "1916b028-b3ee-46c5-9408-a7956e9a60cc"
      },
      "execution_count": 29,
      "outputs": [
        {
          "output_type": "execute_result",
          "data": {
            "text/plain": [
              "StoreType\n",
              "a    2010.0\n",
              "b    2008.0\n",
              "c    2009.0\n",
              "d    2010.0\n",
              "Name: CompetitionOpenSinceYear, dtype: float64"
            ]
          },
          "metadata": {},
          "execution_count": 29
        }
      ]
    },
    {
      "cell_type": "code",
      "source": [
        "#Finding the median Year for each store type\n",
        "medianYear_a=round(DF.loc[(DF['StoreType'] == 'a'), 'CompetitionOpenSinceYear'].median(), 1)\n",
        "medianYear_b=round(DF.loc[(DF['StoreType'] == 'b'), 'CompetitionOpenSinceYear'].median(), 1)\n",
        "medianYear_c=round(DF.loc[(DF['StoreType'] == 'c'), 'CompetitionOpenSinceYear'].median(), 1)\n",
        "medianYear_d=round(DF.loc[(DF['StoreType'] == 'd'), 'CompetitionOpenSinceYear'].median(), 1)\n",
        "\n",
        "#filling the null values of CompetitionOpenSinceYear according to store type\n",
        "DF.loc[DF['StoreType']=='a']=DF.loc[DF['StoreType']=='a'].fillna(value={'CompetitionOpenSinceYear':medianYear_a})\n",
        "DF.loc[DF['StoreType']=='b']=DF.loc[DF['StoreType']=='b'].fillna(value={'CompetitionOpenSinceYear':medianYear_b})\n",
        "DF.loc[DF['StoreType']=='c']=DF.loc[DF['StoreType']=='c'].fillna(value={'CompetitionOpenSinceYear':medianYear_c})\n",
        "DF.loc[DF['StoreType']=='d']=DF.loc[DF['StoreType']=='d'].fillna(value={'CompetitionOpenSinceYear':medianYear_d})"
      ],
      "metadata": {
        "id": "mk5BxvLpKFtm"
      },
      "execution_count": 32,
      "outputs": []
    },
    {
      "cell_type": "code",
      "source": [
        "DF.isnull().sum()"
      ],
      "metadata": {
        "colab": {
          "base_uri": "https://localhost:8080/"
        },
        "id": "x3aDqB0TKc-j",
        "outputId": "cff35457-852d-4414-e00f-88a3fceae373"
      },
      "execution_count": 33,
      "outputs": [
        {
          "output_type": "execute_result",
          "data": {
            "text/plain": [
              "Store                             0\n",
              "DayOfWeek                         0\n",
              "Date                              0\n",
              "Sales                             0\n",
              "Customers                         0\n",
              "Open                              0\n",
              "Promo                             0\n",
              "StateHoliday                      0\n",
              "SchoolHoliday                     0\n",
              "StoreType                         0\n",
              "Assortment                        0\n",
              "CompetitionDistance               0\n",
              "CompetitionOpenSinceMonth         0\n",
              "CompetitionOpenSinceYear          0\n",
              "Promo2                            0\n",
              "Promo2SinceWeek              508031\n",
              "Promo2SinceYear              508031\n",
              "PromoInterval                508031\n",
              "dtype: int64"
            ]
          },
          "metadata": {},
          "execution_count": 33
        }
      ]
    },
    {
      "cell_type": "markdown",
      "source": [
        "* Now we need to fill null values for Promo2SinceWeek, Promo2SinceYear and PromoInterval.\n",
        "* If there is no Promo2 then its corresponding value of week, Year and Interval will be missing.\n",
        "* We can replace the null value of week and Year with the week and Year with the Date given in the dataset."
      ],
      "metadata": {
        "id": "Nm8py45gKvRl"
      }
    },
    {
      "cell_type": "code",
      "source": [
        "DF['Promo2SinceWeek'].fillna(DF[\"Date\"].dt.weekofyear,inplace=True)"
      ],
      "metadata": {
        "id": "spTkFxSzKsOC"
      },
      "execution_count": 36,
      "outputs": []
    },
    {
      "cell_type": "code",
      "source": [
        "DF['Promo2SinceYear'].fillna(DF[\"Date\"].dt.year,inplace=True)"
      ],
      "metadata": {
        "id": "ohu0U_6zMb7G"
      },
      "execution_count": 40,
      "outputs": []
    },
    {
      "cell_type": "code",
      "source": [
        "#Check the unique values of PromoInterval\n",
        "DF['PromoInterval'].unique()"
      ],
      "metadata": {
        "colab": {
          "base_uri": "https://localhost:8080/"
        },
        "id": "6ggzQtnkMp8t",
        "outputId": "72803dfe-7eb7-4bfb-f0c1-ad4faeaa0674"
      },
      "execution_count": 42,
      "outputs": [
        {
          "output_type": "execute_result",
          "data": {
            "text/plain": [
              "array([nan, 'Jan,Apr,Jul,Oct', 'Feb,May,Aug,Nov', 'Mar,Jun,Sept,Dec'],\n",
              "      dtype=object)"
            ]
          },
          "metadata": {},
          "execution_count": 42
        }
      ]
    },
    {
      "cell_type": "markdown",
      "source": [
        "* We can replace the null value with \"NA\" because of the promo2 is not applied then the promo interval is also not aplicable here."
      ],
      "metadata": {
        "id": "Rij5byKaNijf"
      }
    },
    {
      "cell_type": "code",
      "source": [
        "DF['PromoInterval'].fillna(\"NA\",inplace=True)"
      ],
      "metadata": {
        "id": "c3yKKr4sM2dG"
      },
      "execution_count": 43,
      "outputs": []
    },
    {
      "cell_type": "code",
      "source": [
        "DF.isnull().sum()"
      ],
      "metadata": {
        "colab": {
          "base_uri": "https://localhost:8080/"
        },
        "id": "JlFXOhV5Nxr9",
        "outputId": "ae176a25-840c-4f07-e4e4-f9f8125f0653"
      },
      "execution_count": 45,
      "outputs": [
        {
          "output_type": "execute_result",
          "data": {
            "text/plain": [
              "Store                        0\n",
              "DayOfWeek                    0\n",
              "Date                         0\n",
              "Sales                        0\n",
              "Customers                    0\n",
              "Open                         0\n",
              "Promo                        0\n",
              "StateHoliday                 0\n",
              "SchoolHoliday                0\n",
              "StoreType                    0\n",
              "Assortment                   0\n",
              "CompetitionDistance          0\n",
              "CompetitionOpenSinceMonth    0\n",
              "CompetitionOpenSinceYear     0\n",
              "Promo2                       0\n",
              "Promo2SinceWeek              0\n",
              "Promo2SinceYear              0\n",
              "PromoInterval                0\n",
              "dtype: int64"
            ]
          },
          "metadata": {},
          "execution_count": 45
        }
      ]
    },
    {
      "cell_type": "code",
      "source": [],
      "metadata": {
        "id": "lY6aVH5IN2Ln"
      },
      "execution_count": null,
      "outputs": []
    }
  ]
}