{
  "nbformat": 4,
  "nbformat_minor": 0,
  "metadata": {
    "colab": {
      "private_outputs": true,
      "provenance": [],
      "collapsed_sections": [
        "yiiVWRdJDDil",
        "gIfDvo9L0UH2"
      ],
      "include_colab_link": true
    },
    "kernelspec": {
      "name": "python3",
      "display_name": "Python 3"
    },
    "language_info": {
      "name": "python"
    },
    "gpuClass": "standard"
  },
  "cells": [
    {
      "cell_type": "markdown",
      "metadata": {
        "id": "view-in-github",
        "colab_type": "text"
      },
      "source": [
        "<a href=\"https://colab.research.google.com/github/shab29/Regression_capstoneProject/blob/main/Rossmann_Sales_Prediction_ML_Regression.ipynb\" target=\"_parent\"><img src=\"https://colab.research.google.com/assets/colab-badge.svg\" alt=\"Open In Colab\"/></a>"
      ]
    },
    {
      "cell_type": "markdown",
      "source": [
        "# **Rossmann Sales Prediction**\n",
        "\n"
      ],
      "metadata": {
        "id": "vncDsAP0Gaoa"
      }
    },
    {
      "cell_type": "markdown",
      "source": [
        "##### **Project Type**    - Regression\n",
        "##### **Contribution**    - Team\n",
        "##### **Team Member 1 -** Arun Prasath\n",
        "##### **Team Member 2 -**Shabnam Bano\n",
        "##### **Team Member 3 -** Naga Sai\n"
      ],
      "metadata": {
        "id": "beRrZCGUAJYm"
      }
    },
    {
      "cell_type": "markdown",
      "source": [
        "# **Project Summary -**"
      ],
      "metadata": {
        "id": "FJNUwmbgGyua"
      }
    },
    {
      "cell_type": "markdown",
      "source": [
        "Write the summary here within 500-600 words."
      ],
      "metadata": {
        "id": "F6v_1wHtG2nS"
      }
    },
    {
      "cell_type": "markdown",
      "source": [
        "# **GitHub Link -**"
      ],
      "metadata": {
        "id": "w6K7xa23Elo4"
      }
    },
    {
      "cell_type": "markdown",
      "source": [
        "https://github.com/Nagasai122/salesprediction"
      ],
      "metadata": {
        "id": "h1o69JH3Eqqn"
      }
    },
    {
      "cell_type": "markdown",
      "source": [
        "# **Problem Statement**\n"
      ],
      "metadata": {
        "id": "yQaldy8SH6Dl"
      }
    },
    {
      "cell_type": "markdown",
      "source": [
        "##Rossmann operates over 3,000 drug stores in 7 European countries. Currently, Rossmann store managers are tasked with predicting their daily sales for up to six weeks in advance. Store sales are influenced by many factors, including promotions, competition, school and state holidays, seasonality, and locality. With thousands of individual managers predicting sales based on their unique circumstances, the accuracy of results can be quite varied.\n",
        "\n",
        "## You are provided with historical sales data for 1,115 Rossmann stores. The task is to forecast the \"Sales\" column for the test set. Note that some stores in the dataset were temporarily closed for refurbishment."
      ],
      "metadata": {
        "id": "DpeJGUA3kjGy"
      }
    },
    {
      "cell_type": "markdown",
      "source": [
        "## <b> Data Description </b>\n",
        "\n",
        "### <b>Rossmann Stores Data.csv </b> - historical data including Sales\n",
        "### <b>store.csv </b> - supplemental information about the stores\n"
      ],
      "metadata": {
        "id": "u4MhOHDV1C2c"
      }
    },
    {
      "cell_type": "markdown",
      "source": [
        "# ***Let's Begin !***"
      ],
      "metadata": {
        "id": "O_i_v8NEhb9l"
      }
    },
    {
      "cell_type": "markdown",
      "source": [
        "## ***1. Exploring the Datasets***"
      ],
      "metadata": {
        "id": "HhfV-JJviCcP"
      }
    },
    {
      "cell_type": "markdown",
      "source": [
        "### Import Libraries"
      ],
      "metadata": {
        "id": "Y3lxredqlCYt"
      }
    },
    {
      "cell_type": "code",
      "source": [
        "#Importing Libraries\n",
        "import pandas as pd\n",
        "import numpy as np\n",
        "\n",
        "# Importing for visualisation\n",
        "import matplotlib as mpl\n",
        "import matplotlib.pyplot as plt\n",
        "%matplotlib inline\n",
        "import seaborn as sns\n",
        "\n",
        "# Importing Datatime \n",
        "from datetime import datetime\n",
        "\n",
        "# Importing warnings to import\n",
        "import warnings \n",
        "warnings.filterwarnings(\"ignore\")\n",
        "\n",
        "\n",
        "#Importing onehotencoder\n",
        "from sklearn.preprocessing import OneHotEncoder\n",
        "\n",
        "# Scaling of the Splitted Data.\n",
        "from sklearn.preprocessing import StandardScaler\n",
        "\n",
        "\n",
        "#Importing libraries \n",
        "\n",
        "from sklearn.tree import DecisionTreeRegressor\n",
        "\n",
        "# Importing Random Forest Regressor\n",
        "\n",
        "from sklearn.ensemble import RandomForestRegressor\n",
        "\n",
        "# Importing Linear Regression \n",
        "from sklearn.linear_model import LinearRegression\n",
        "\n",
        "#metrics import\n",
        "\n",
        "from sklearn.metrics import mean_absolute_error\n",
        "from sklearn.metrics import mean_squared_error\n",
        "from sklearn.metrics import r2_score"
      ],
      "metadata": {
        "id": "M8Vqi-pPk-HR"
      },
      "execution_count": null,
      "outputs": []
    },
    {
      "cell_type": "code",
      "source": [
        "from google.colab import drive\n",
        "drive.mount(\"/content/drive\")"
      ],
      "metadata": {
        "id": "JXb2QJii1uMU"
      },
      "execution_count": null,
      "outputs": []
    },
    {
      "cell_type": "markdown",
      "source": [
        "### Dataset Loading"
      ],
      "metadata": {
        "id": "3RnN4peoiCZX"
      }
    },
    {
      "cell_type": "code",
      "source": [
        "# Load Dataset\n",
        "sales_df = pd.read_csv(\"/content/drive/MyDrive/Colab Notebooks/AlmaBetter/Capstone_project/Regression_sale prediction/Data/Copy of Rossmann Stores Data.csv\")\n",
        "store_df = pd.read_csv(\"/content/drive/MyDrive/Colab Notebooks/AlmaBetter/Capstone_project/Regression_sale prediction/Data/Copy of store.csv\")"
      ],
      "metadata": {
        "id": "4CkvbW_SlZ_R"
      },
      "execution_count": null,
      "outputs": []
    },
    {
      "cell_type": "markdown",
      "source": [
        "### Dataset First View"
      ],
      "metadata": {
        "id": "x71ZqKXriCWQ"
      }
    },
    {
      "cell_type": "code",
      "source": [
        "# Dataset First Look\n",
        "sales_df.head()"
      ],
      "metadata": {
        "id": "LWNFOSvLl09H"
      },
      "execution_count": null,
      "outputs": []
    },
    {
      "cell_type": "code",
      "source": [
        "store_df.head()"
      ],
      "metadata": {
        "id": "3NV8rxTo2HGr"
      },
      "execution_count": null,
      "outputs": []
    },
    {
      "cell_type": "markdown",
      "source": [
        "### Dataset Rows & Columns count"
      ],
      "metadata": {
        "id": "7hBIi_osiCS2"
      }
    },
    {
      "cell_type": "code",
      "source": [
        "# Dataset Rows & Columns count\n",
        "sales_df.shape"
      ],
      "metadata": {
        "id": "Kllu7SJgmLij"
      },
      "execution_count": null,
      "outputs": []
    },
    {
      "cell_type": "code",
      "source": [
        "store_df.shape"
      ],
      "metadata": {
        "id": "lCQyjyph2GAb"
      },
      "execution_count": null,
      "outputs": []
    },
    {
      "cell_type": "markdown",
      "source": [
        "### Dataset Information"
      ],
      "metadata": {
        "id": "JlHwYmJAmNHm"
      }
    },
    {
      "cell_type": "code",
      "source": [
        "# Dataset Info\n",
        "sales_df.info()"
      ],
      "metadata": {
        "id": "e9hRXRi6meOf"
      },
      "execution_count": null,
      "outputs": []
    },
    {
      "cell_type": "code",
      "source": [
        "store_df.info()"
      ],
      "metadata": {
        "id": "qOAkZSjZ2dUq"
      },
      "execution_count": null,
      "outputs": []
    },
    {
      "cell_type": "markdown",
      "source": [
        "#### Duplicate Values"
      ],
      "metadata": {
        "id": "35m5QtbWiB9F"
      }
    },
    {
      "cell_type": "code",
      "source": [
        "# Dataset Duplicate Value Count\n",
        "duplicates_sales_df= sales_df[sales_df.duplicated()]\n",
        "duplicates_sales_df"
      ],
      "metadata": {
        "id": "1sLdpKYkmox0"
      },
      "execution_count": null,
      "outputs": []
    },
    {
      "cell_type": "code",
      "source": [
        "duplicates_store_df= store_df[store_df.duplicated()]\n",
        "duplicates_store_df"
      ],
      "metadata": {
        "id": "YTbfHzEU3JRH"
      },
      "execution_count": null,
      "outputs": []
    },
    {
      "cell_type": "markdown",
      "source": [
        "Observation:\n",
        " No duplicates found in the two data sets provided"
      ],
      "metadata": {
        "id": "d1gkuaSk3aj5"
      }
    },
    {
      "cell_type": "markdown",
      "source": [
        "#### Missing Values/Null Values"
      ],
      "metadata": {
        "id": "PoPl-ycgm1ru"
      }
    },
    {
      "cell_type": "code",
      "source": [
        "# Missing Values/Null Values Count\n",
        "sales_df.info()"
      ],
      "metadata": {
        "id": "GgHWkxvamxVg"
      },
      "execution_count": null,
      "outputs": []
    },
    {
      "cell_type": "markdown",
      "source": [
        "Observation:\n",
        "\n",
        "*   In the sales dataset, we are fortunate enough to get the dataset with 0 null values in the features\n",
        "*   We provided with '1017209' rows and '9' features"
      ],
      "metadata": {
        "id": "aaW6QSE44Vnw"
      }
    },
    {
      "cell_type": "code",
      "source": [
        "store_df.info()"
      ],
      "metadata": {
        "id": "3BuOokgz4d1i"
      },
      "execution_count": null,
      "outputs": []
    },
    {
      "cell_type": "markdown",
      "source": [
        "Observation:\n",
        "\n",
        "*   In store dataset we provided with 1115 rows and 10 features\n",
        "*   few features come up with null values, which we are going to treat.\n"
      ],
      "metadata": {
        "id": "eH2y-8jd4yuo"
      }
    },
    {
      "cell_type": "markdown",
      "source": [
        "#### Visualizing the Missing Values/Null Values"
      ],
      "metadata": {
        "id": "9ST2B7aqGNX2"
      }
    },
    {
      "cell_type": "code",
      "source": [
        "# finding feature wise percentage missing values\n",
        "missing_values_percentage = round((store_df.isna().sum().sort_values(ascending=False)/len(store_df))*100,2)\n",
        "missing_values_percentage"
      ],
      "metadata": {
        "id": "3q5wnI3om9sJ"
      },
      "execution_count": null,
      "outputs": []
    },
    {
      "cell_type": "code",
      "source": [
        "# Visualizing the missing values\n",
        "plt.figure(figsize=(10,6))\n",
        "plt.title(\"Percentage missing values per column\",fontsize=15)\n",
        "\n",
        "a=sns.barplot(x=missing_values_percentage[missing_values_percentage>0],y=missing_values_percentage[missing_values_percentage>0].index)\n",
        "a.set_ylabel('Column Name')\n",
        "a.set_xlabel('Percentage Missing Values')\n",
        "plt.show()"
      ],
      "metadata": {
        "id": "BOuHdcpl6UqI"
      },
      "execution_count": null,
      "outputs": []
    },
    {
      "cell_type": "markdown",
      "source": [
        "Observations:\n",
        "\n",
        "* The Percentage of Null values in each feature in the sales dataset has been shown above.\n",
        "* Feature CompetitionDistance with less than 1% null values\n",
        "* It shows that features such as CompetitionOpenSinceMonth, CompetitionOpenSinceYear consists of around 30% null values.\n",
        "* Promo2SinceYear, Promo2SinceWeek, PromoInterval are the features with the 50% of null values in respective entities.\n",
        "\n",
        "\n",
        "Hence, we should deal with the null values by various methods before proceeding further."
      ],
      "metadata": {
        "id": "6knQ11oPQbMD"
      }
    },
    {
      "cell_type": "markdown",
      "source": [
        "### Dealing with Null values"
      ],
      "metadata": {
        "id": "QYI3pEA1SQku"
      }
    },
    {
      "cell_type": "code",
      "source": [
        "# Distribution plot for the competition distance\n",
        "\n",
        "plt.subplots(figsize=(10, 6))\n",
        "sns.distplot(x=store_df['CompetitionDistance'])\n",
        "plt.xlabel(\"Stores\")\n",
        "plt.ylabel(\"Competition Distance\")"
      ],
      "metadata": {
        "id": "B8VjmssQQMlm"
      },
      "execution_count": null,
      "outputs": []
    },
    {
      "cell_type": "markdown",
      "source": [
        "Observations:\n",
        "\n",
        "* As we already known that \"CompetitionDistance\" is the distance in meters to the nearest competitors.\n",
        "* Hence distance of each store from the competitor will be seen using **\"Distribution Plot\"**\n",
        "\n",
        "In a skewed distribution, the median is often a preferred measure of central tendency, as the mean is not usually in the middle of the distribution"
      ],
      "metadata": {
        "id": "DbSFz5T9Q_Oa"
      }
    },
    {
      "cell_type": "code",
      "source": [
        "# Filling the null values in \"competition distance\" feature with \"Median\"\n",
        "\n",
        "a_type_median = round(store_df.loc[(store_df[\"StoreType\"]=='a'),'CompetitionDistance'].median(),1)\n",
        "b_type_median = round(store_df.loc[(store_df[\"StoreType\"]=='b'),'CompetitionDistance'].median(),1)\n",
        "c_type_median = round(store_df.loc[(store_df[\"StoreType\"]=='c'),'CompetitionDistance'].median(),1)\n",
        "d_type_median = round(store_df.loc[(store_df[\"StoreType\"]=='d'),'CompetitionDistance'].median(),1)\n",
        "\n",
        "print(\"The median Compeition Distance for stores of type a is \" + str(a_type_median))\n",
        "print(\"The median Compeition Distance for stores of type b is \" + str(b_type_median))\n",
        "print(\"The median Compeition Distance for stores of type c is \" + str(c_type_median))\n",
        "print(\"The median Compeition Distance for stores of type d is \" + str(d_type_median))\n",
        "\n",
        "store_df.loc[store_df[\"StoreType\"]=='a']= store_df.loc[store_df[\"StoreType\"]=='a'].fillna(value={'CompetitionDistance': a_type_median})\n",
        "store_df.loc[store_df[\"StoreType\"]=='b']= store_df.loc[store_df['StoreType']=='b'].fillna(value={\"CompetitionDistance\": b_type_median})\n",
        "store_df.loc[store_df[\"StoreType\"]=='c']= store_df.loc[store_df['StoreType']=='c'].fillna(value={\"CompetitionDistance\": c_type_median})\n",
        "store_df.loc[store_df[\"StoreType\"]=='d']= store_df.loc[store_df['StoreType']=='d'].fillna(value={\"CompetitionDistance\": d_type_median})"
      ],
      "metadata": {
        "id": "tCoFTXHWQ6Vt"
      },
      "execution_count": null,
      "outputs": []
    },
    {
      "cell_type": "code",
      "source": [
        "store_df.info()"
      ],
      "metadata": {
        "id": "yUGM-zx-RNeC"
      },
      "execution_count": null,
      "outputs": []
    },
    {
      "cell_type": "code",
      "source": [
        "#Distribution Plot for \"Competition open since month\"\n",
        "\n",
        "plt.subplots(figsize=(10, 6))\n",
        "sns.distplot(x = store_df[\"CompetitionOpenSinceMonth\"].value_counts())"
      ],
      "metadata": {
        "id": "rWTDJSAsTXfT"
      },
      "execution_count": null,
      "outputs": []
    },
    {
      "cell_type": "code",
      "source": [
        "#Let's check mean value for CompetitionOpenSinceMonth according to each store type\n",
        "store_df.groupby(['StoreType'])['CompetitionOpenSinceMonth'].mean()"
      ],
      "metadata": {
        "id": "ZDsdS4Sys0G_"
      },
      "execution_count": null,
      "outputs": []
    },
    {
      "cell_type": "code",
      "source": [
        "store_df[\"CompetitionOpenSinceYear\"].value_counts()"
      ],
      "metadata": {
        "id": "Xf4D84tVTiXZ"
      },
      "execution_count": null,
      "outputs": []
    },
    {
      "cell_type": "code",
      "source": [
        "store_df.groupby(['StoreType'])['CompetitionOpenSinceMonth'].median()"
      ],
      "metadata": {
        "id": "bX7E4KOKtKao"
      },
      "execution_count": null,
      "outputs": []
    },
    {
      "cell_type": "code",
      "source": [
        "#Distribution Plot for \"Competition open since year\"\n",
        "\n",
        "plt.subplots(figsize=(10, 6))\n",
        "sns.distplot(x = store_df[\"CompetitionOpenSinceYear\"].value_counts())"
      ],
      "metadata": {
        "id": "7Sg1ZRoLTo_j"
      },
      "execution_count": null,
      "outputs": []
    },
    {
      "cell_type": "markdown",
      "source": [
        "* CompetitionOpenSince[Month/Year] - gives the approximate year and month of the time the nearest competitor was opened\n",
        "* Also we simply say, competition for the stores in general are peak for few and low for very few stores.\n",
        "* Hence we dealing with the median values for treating the null."
      ],
      "metadata": {
        "id": "CfNNw56gTtIj"
      }
    },
    {
      "cell_type": "code",
      "source": [
        "# Filling the null values in the feature \"Competiton open since month/year\" with \"median\" values.\n",
        "\n",
        "#Finding the median month for each store type\n",
        "medianMonth_a=round(store_df.loc[(store_df['StoreType'] == 'a'), 'CompetitionOpenSinceMonth'].median(), 1)\n",
        "medianMonth_b=round(store_df.loc[(store_df['StoreType'] == 'b'), 'CompetitionOpenSinceMonth'].median(), 1)\n",
        "medianMonth_c=round(store_df.loc[(store_df['StoreType'] == 'c'), 'CompetitionOpenSinceMonth'].median(), 1)\n",
        "medianMonth_d=round(store_df.loc[(store_df['StoreType'] == 'd'), 'CompetitionOpenSinceMonth'].median(), 1)\n",
        "\n",
        "#filling the null values of CompetitionOpenSinceMonth according to store type\n",
        "store_df.loc[store_df['StoreType']=='a']=store_df.loc[store_df['StoreType']=='a'].fillna(value={'CompetitionOpenSinceMonth':medianMonth_a})\n",
        "store_df.loc[store_df['StoreType']=='b']=store_df.loc[store_df['StoreType']=='b'].fillna(value={'CompetitionOpenSinceMonth':medianMonth_b})\n",
        "store_df.loc[store_df['StoreType']=='c']=store_df.loc[store_df['StoreType']=='c'].fillna(value={'CompetitionOpenSinceMonth':medianMonth_c})\n",
        "store_df.loc[store_df['StoreType']=='d']=store_df.loc[store_df['StoreType']=='d'].fillna(value={'CompetitionOpenSinceMonth':medianMonth_d})\n",
        "\n",
        "\n",
        "#Finding the median Year for each store type\n",
        "medianYear_a=round(store_df.loc[(store_df['StoreType'] == 'a'), 'CompetitionOpenSinceYear'].median(), 1)\n",
        "medianYear_b=round(store_df.loc[(store_df['StoreType'] == 'b'), 'CompetitionOpenSinceYear'].median(), 1)\n",
        "medianYear_c=round(store_df.loc[(store_df['StoreType'] == 'c'), 'CompetitionOpenSinceYear'].median(), 1)\n",
        "medianYear_d=round(store_df.loc[(store_df['StoreType'] == 'd'), 'CompetitionOpenSinceYear'].median(), 1)\n",
        "\n",
        "#filling the null values of CompetitionOpenSinceYear according to store type\n",
        "store_df.loc[store_df['StoreType']=='a']=store_df.loc[store_df['StoreType']=='a'].fillna(value={'CompetitionOpenSinceYear':medianYear_a})\n",
        "store_df.loc[store_df['StoreType']=='b']=store_df.loc[store_df['StoreType']=='b'].fillna(value={'CompetitionOpenSinceYear':medianYear_b})\n",
        "store_df.loc[store_df['StoreType']=='c']=store_df.loc[store_df['StoreType']=='c'].fillna(value={'CompetitionOpenSinceYear':medianYear_c})\n",
        "store_df.loc[store_df['StoreType']=='d']=store_df.loc[store_df['StoreType']=='d'].fillna(value={'CompetitionOpenSinceYear':medianYear_d})\n"
      ],
      "metadata": {
        "id": "uvq9ZOzAT01r"
      },
      "execution_count": null,
      "outputs": []
    },
    {
      "cell_type": "code",
      "source": [
        "store_df.info()"
      ],
      "metadata": {
        "id": "4jMcU80iT3vo"
      },
      "execution_count": null,
      "outputs": []
    },
    {
      "cell_type": "markdown",
      "source": [
        "* For other three features, we just replacing the null values by \"0\"\n",
        "* Assuming the if the Promotion since detail not given, then we considering there is no promotions in the store."
      ],
      "metadata": {
        "id": "NS85UgM8T-Pj"
      }
    },
    {
      "cell_type": "code",
      "source": [
        "# Filling the null values in \"Promotion\" related features with \"0\" & \"NA\"\n",
        "\n",
        "store_df[\"Promo2SinceWeek\"].fillna(value = 0 , inplace = True)\n",
        "store_df[\"Promo2SinceYear\"].fillna(value = 0 , inplace = True)\n",
        "store_df[\"PromoInterval\"].fillna(value = 'NA' , inplace = True)"
      ],
      "metadata": {
        "id": "G7pW6ux_UCAA"
      },
      "execution_count": null,
      "outputs": []
    },
    {
      "cell_type": "code",
      "source": [
        "# Checking the percentage of null values in the store dataframe\n",
        "\n",
        "(round(store_df.isnull().sum()/(store_df.shape[0]),4)*100)\n"
      ],
      "metadata": {
        "id": "AW2RbWOJR7Us"
      },
      "execution_count": null,
      "outputs": []
    },
    {
      "cell_type": "markdown",
      "source": [
        "* Hence, Both the dataset has been cleaned without null values in the entities of the features\n",
        "* we shall now proceed for the merging of the two dataset"
      ],
      "metadata": {
        "id": "7x8tY-w7ULoy"
      }
    },
    {
      "cell_type": "code",
      "source": [
        "# Merging of Two Source Dataset\n",
        "\n",
        "df = sales_df.merge(right = store_df, on= \"Store\", how = \"left\")  "
      ],
      "metadata": {
        "id": "i5Avu-FrUQ1X"
      },
      "execution_count": null,
      "outputs": []
    },
    {
      "cell_type": "code",
      "source": [
        "df.shape"
      ],
      "metadata": {
        "id": "_4Y2mR1jUX9C"
      },
      "execution_count": null,
      "outputs": []
    },
    {
      "cell_type": "code",
      "source": [
        "df.head()"
      ],
      "metadata": {
        "id": "Qfg3JMF5UaLb"
      },
      "execution_count": null,
      "outputs": []
    },
    {
      "cell_type": "code",
      "source": [
        "df.info()"
      ],
      "metadata": {
        "id": "2s30PoPcpqVM"
      },
      "execution_count": null,
      "outputs": []
    },
    {
      "cell_type": "markdown",
      "source": [
        "## ***2. Understanding the Dataset Variables***"
      ],
      "metadata": {
        "id": "nA9Y7ga8ng1Z"
      }
    },
    {
      "cell_type": "code",
      "source": [
        "# Dataset Columns\n",
        "df.columns"
      ],
      "metadata": {
        "id": "j7xfkqrt5Ag5"
      },
      "execution_count": null,
      "outputs": []
    },
    {
      "cell_type": "code",
      "source": [
        "# Dataset Describe\n",
        "df.describe()"
      ],
      "metadata": {
        "id": "DnOaZdaE5Q5t"
      },
      "execution_count": null,
      "outputs": []
    },
    {
      "cell_type": "markdown",
      "source": [
        "### Variables of features Description :"
      ],
      "metadata": {
        "id": "PBTbrJXOngz2"
      }
    },
    {
      "cell_type": "markdown",
      "source": [
        "\n",
        "* #### Id - an Id that represents a (Store, Date) duple within the test set\n",
        "* #### Store - a unique Id for each store\n",
        "* #### Sales - the turnover for any given day (this is what you are predicting)\n",
        "* #### Customers - the number of customers on a given day\n",
        "* #### Open - an indicator for whether the store was open: 0 = closed, 1 = open\n",
        "* #### StateHoliday - indicates a state holiday. Normally all stores, with few exceptions, are closed on state holidays. Note that all schools are closed on public holidays and weekends. a = public holiday, b = Easter holiday, c = Christmas, 0 = None\n",
        "* #### SchoolHoliday - indicates if the (Store, Date) was affected by the closure of public schools\n",
        "* #### StoreType - differentiates between 4 different store models: a, b, c, d\n",
        "* #### Assortment - describes an assortment level: a = basic, b = extra, c = extended\n",
        "* #### CompetitionDistance - distance in meters to the nearest competitor store\n",
        "* #### CompetitionOpenSince[Month/Year] - gives the approximate year and month of the time the nearest competitor was opened\n",
        "* #### Promo - indicates whether a store is running a promo on that day\n",
        "* #### Promo2 - Promo2 is a continuing and consecutive promotion for some stores: 0 = store is not participating, 1 = store is participating\n",
        "* #### Promo2Since[Year/Week] - describes the year and calendar week when the store started participating in Promo2\n",
        "* #### PromoInterval - describes the consecutive intervals Promo2 is started, naming the months the promotion is started anew. E.g. \"Feb,May,Aug,Nov\" means each round starts in February, May, August, November of any given year for that store"
      ],
      "metadata": {
        "id": "aJV4KIxSnxay"
      }
    },
    {
      "cell_type": "markdown",
      "source": [
        "### Checking Unique Values for each feature :"
      ],
      "metadata": {
        "id": "u3PMJOP6ngxN"
      }
    },
    {
      "cell_type": "code",
      "source": [
        "# Check Unique Values for each variable.\n",
        "# Sorting out the categorical features from the dataset\n",
        "\n",
        "categorical_features = []\n",
        "for i in df.columns:\n",
        "  a = df[i].value_counts()\n",
        "  if len(a) < 600:\n",
        "    categorical_features.append(i)\n",
        "print(categorical_features)\n",
        "\n",
        "for col in categorical_features:\n",
        "  values = df[col].unique()\n",
        "  print(f\"The Unique categorical values of the feature {col} is {values}\")\n",
        "  print(\"\\n\")"
      ],
      "metadata": {
        "id": "zms12Yq5n-jE"
      },
      "execution_count": null,
      "outputs": []
    },
    {
      "cell_type": "markdown",
      "source": [
        "![image.png](data:image/png;base64,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)\n",
        "\n",
        "* It is noted that \"0\" provided as the string datatype\n",
        "* It's nessasary to change it into integer datatype."
      ],
      "metadata": {
        "id": "bKRNYMa4V3W-"
      }
    },
    {
      "cell_type": "markdown",
      "source": [
        "## 3. ***Data Wrangling***"
      ],
      "metadata": {
        "id": "dauF4eBmngu3"
      }
    },
    {
      "cell_type": "code",
      "source": [
        "#Before changing\n",
        "df[\"StateHoliday\"].unique()"
      ],
      "metadata": {
        "id": "wk-9a2fpoLcV"
      },
      "execution_count": null,
      "outputs": []
    },
    {
      "cell_type": "code",
      "source": [
        "# After Replacing the \"0\" with integer 0\n",
        "df[\"StateHoliday\"].replace({\"0\":0}, inplace = True)\n",
        "df[\"StateHoliday\"].unique()"
      ],
      "metadata": {
        "id": "oWEzo-lDWYvB"
      },
      "execution_count": null,
      "outputs": []
    },
    {
      "cell_type": "code",
      "source": [
        "# converting float data type in to Interger data type.\n",
        "\n",
        "df['CompetitionDistance'] = df['CompetitionDistance'].astype(int)\n",
        "df['CompetitionOpenSinceMonth'] = df['CompetitionOpenSinceMonth'].astype(int)\n",
        "df['CompetitionOpenSinceYear'] = df['CompetitionOpenSinceYear'].astype(int)\n",
        "df['Promo2SinceWeek'] = df['Promo2SinceWeek'].astype(int)\n",
        "df['Promo2SinceYear'] = df['Promo2SinceYear'].astype(int)\n",
        "df['Date']=pd.to_datetime(df['Date'],format=\"%Y-%m-%d\",errors='raise')"
      ],
      "metadata": {
        "id": "hRCQJpDjW6ZY"
      },
      "execution_count": null,
      "outputs": []
    },
    {
      "cell_type": "code",
      "source": [
        "df.info()"
      ],
      "metadata": {
        "id": "4xPA3yIeXGHq"
      },
      "execution_count": null,
      "outputs": []
    },
    {
      "cell_type": "code",
      "source": [
        "df[\"Date\"]"
      ],
      "metadata": {
        "id": "to2N3fVeX8Qx"
      },
      "execution_count": null,
      "outputs": []
    },
    {
      "cell_type": "code",
      "source": [
        "# Created copy of treated data set\n",
        "df_dummy = df.copy()"
      ],
      "metadata": {
        "id": "X7Iq60IKX9oY"
      },
      "execution_count": null,
      "outputs": []
    },
    {
      "cell_type": "code",
      "source": [
        "#Converting the \"Date\" column from string to datatime\n",
        "df[\"Date\"] = df[\"Date\"].astype(np.datetime64)\n",
        "# Creating the separate columns for \"DayofYear\" \"WeekofYear\" \"Month\" \"Year\"\n",
        "df[\"Year\"] = df[\"Date\"].dt.year\n",
        "df[\"month\"] = df[\"Date\"].dt.month\n",
        "df[\"dayofyear\"] = df[\"Date\"].dt.dayofyear\n",
        "df[\"weekofyear\"] = df[\"Date\"].dt.weekofyear"
      ],
      "metadata": {
        "id": "pjolHnXZYgYm"
      },
      "execution_count": null,
      "outputs": []
    },
    {
      "cell_type": "code",
      "source": [
        "df[\"Year\"].value_counts()"
      ],
      "metadata": {
        "id": "ta85mbIPaBw-"
      },
      "execution_count": null,
      "outputs": []
    },
    {
      "cell_type": "code",
      "source": [
        "#It is noted that data provided for only three years\n",
        "# Promotion since year has 0 as data value\n",
        "# we know our dataset is provided only for 3 years till 2015\n",
        "# hence we replacing the value 0 as 2015 in order to get the correct value when equating the years.\n",
        "\n",
        "df[\"Promo2SinceYear\"].replace({0:2015}, inplace = True)"
      ],
      "metadata": {
        "id": "qlza9ZQxa2kn"
      },
      "execution_count": null,
      "outputs": []
    },
    {
      "cell_type": "code",
      "source": [
        "df[\"Promo2SinceYear\"].unique()"
      ],
      "metadata": {
        "id": "b2RDOV8sbAAL"
      },
      "execution_count": null,
      "outputs": []
    },
    {
      "cell_type": "code",
      "source": [
        "df.head().T"
      ],
      "metadata": {
        "id": "2Blf4M_ZbCKz"
      },
      "execution_count": null,
      "outputs": []
    },
    {
      "cell_type": "code",
      "source": [
        "df.info()"
      ],
      "metadata": {
        "id": "M5-vMcRyoy3R"
      },
      "execution_count": null,
      "outputs": []
    },
    {
      "cell_type": "markdown",
      "source": [
        "### Data Manipulations done and insights found :"
      ],
      "metadata": {
        "id": "MSa1f5Uengrz"
      }
    },
    {
      "cell_type": "markdown",
      "source": [
        "Data manipulation is the process of changing or altering data in order to make it more readable, organized and to get insights.\n",
        "\n",
        "1. Converting string value data type in to Integers\n",
        "2. Converting Date column in to Datetime format and there after splitting the date column in to year, month,day &  week of the year columns\n",
        "3. Replacing Promosinceyear to 2015 for those stores which were opened in the year 2015 instead of zero."
      ],
      "metadata": {
        "id": "LbyXE7I1olp8"
      }
    },
    {
      "cell_type": "markdown",
      "source": [
        "## ***4. Data Vizualization, Storytelling & Experimenting with charts : Understand the relationships between variables***"
      ],
      "metadata": {
        "id": "GF8Ens_Soomf"
      }
    },
    {
      "cell_type": "markdown",
      "source": [
        "### *Percentage of sales against each categorical features*\n"
      ],
      "metadata": {
        "id": "0wOQAZs5pc--"
      }
    },
    {
      "cell_type": "code",
      "source": [
        "# Percentage of sales against each categorical features\n",
        "for i in categorical_features:\n",
        "  a = round(df[\"Sales\"].groupby(df[i]).sum()/df[\"Sales\"].sum() * 100, 2)\n",
        "  b = pd.DataFrame(a)\n",
        "  b.plot.bar()\n",
        "plt.show()"
      ],
      "metadata": {
        "id": "7v_ESjsspbW7"
      },
      "execution_count": null,
      "outputs": []
    },
    {
      "cell_type": "markdown",
      "source": [
        "##### Insight(s) found from the chart:\n",
        "\n",
        "Reason for using Bar charts: \n",
        "  Bar charts are used for comparing different categorical or discrete features."
      ],
      "metadata": {
        "id": "lQ7QKXXCp7Bj"
      }
    },
    {
      "cell_type": "markdown",
      "source": [
        "![image.png](data:image/png;base64,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)Answer Here"
      ],
      "metadata": {
        "id": "C_j1G7yiqdRP"
      }
    },
    {
      "cell_type": "markdown",
      "source": [
        "### *Counting the number of Store available on each day of week *italicized text*"
      ],
      "metadata": {
        "id": "KSlN3yHqYklG"
      }
    },
    {
      "cell_type": "code",
      "source": [
        "# Counting the number of Store available on each day of week\n",
        "sns.countplot(x=df[\"Open\"], hue=df[\"DayOfWeek\"])"
      ],
      "metadata": {
        "id": "R4YgtaqtYklH"
      },
      "execution_count": null,
      "outputs": []
    },
    {
      "cell_type": "markdown",
      "source": [
        "##### Insight(s) found from the chart:\n",
        "\n",
        "Reason for choosing countplot: used to Show the counts of observations in each categorical bin using bars"
      ],
      "metadata": {
        "id": "ijmpgYnKYklI"
      }
    },
    {
      "cell_type": "markdown",
      "source": [
        "* Visualizing the operation and non-operation of the stores\n",
        "* Taking the count of Days of week\n",
        "* Observing that store are opened on everyday of week **except Day 7 (Sunday)**\n",
        "* Comparing with other days, **Day 4 (Thursday)** has slightly higher non-opening days comparatively. "
      ],
      "metadata": {
        "id": "PSx9atu2YklI"
      }
    },
    {
      "cell_type": "markdown",
      "source": [
        "#### *Sales of each store along with their assortment type.*"
      ],
      "metadata": {
        "id": "EM7whBJCYoAo"
      }
    },
    {
      "cell_type": "code",
      "source": [
        "#Plotting sales of each store along with their assortment type.\n",
        "\n",
        "sns.barplot(x=df[\"StoreType\"],y=df['Sales'],hue=df[\"Assortment\"])"
      ],
      "metadata": {
        "id": "t6GMdE67YoAp"
      },
      "execution_count": null,
      "outputs": []
    },
    {
      "cell_type": "markdown",
      "source": [
        "##### Insight(s) found from the chart:\n",
        "\n",
        "* Here we taking 3 features into single account.\n",
        "* Visualizing the sales of each store type (a, b, c, d)\n",
        "* As well as we segregating the each store type (a, b, c, d) further with assortment type (a,b,c)\n",
        "* Simply observed that, **Storetype b** has the highest sales than others in high margin.\n",
        "* **Assortment c** from storetype b has highest sales overall."
      ],
      "metadata": {
        "id": "85gYPyotYoAp"
      }
    },
    {
      "cell_type": "markdown",
      "source": [
        "##### Gained insights from above chart:\n",
        "From above chart we can see which store performing well and their assortment type which helps in positive business impact."
      ],
      "metadata": {
        "id": "RoGjAbkUYoAp"
      }
    },
    {
      "cell_type": "markdown",
      "source": [
        "### Multivariate Analysis\n",
        "\n",
        "#### *Analysing on Store type vs customers vs sales*"
      ],
      "metadata": {
        "id": "4Of9eVA-YrdM"
      }
    },
    {
      "cell_type": "code",
      "source": [
        "# Grouping the storetype with sales and customers\n",
        "store_type = df.groupby(\"StoreType\")[\"Sales\",\"Customers\"].sum().reset_index()\n",
        "print(store_type)"
      ],
      "metadata": {
        "id": "irlUoxc8YrdO"
      },
      "execution_count": null,
      "outputs": []
    },
    {
      "cell_type": "code",
      "source": [
        "# Share of Each Store types on overall sales \n",
        "\n",
        "df[\"StoreType\"].value_counts().plot.pie(title='Share of Store Types', legend=True, autopct='%1.1f%%', shadow=True)\n",
        "plt.show()"
      ],
      "metadata": {
        "id": "5ah1dS3zp8bo"
      },
      "execution_count": null,
      "outputs": []
    },
    {
      "cell_type": "code",
      "source": [
        "# Plotting for Sales vs Storetype\n",
        "plt.figure(figsize=(12,5))\n",
        "plt.subplot(1,2,1)\n",
        "sns.barplot(x=store_type[\"StoreType\"], y = store_type[\"Sales\"])\n",
        "plt.title(\"Sales vs Store type\")\n",
        "\n",
        "\n",
        "#Pie plotting and visulizing the percentage of sales against storetype\n",
        "plt.subplot(1,2,2)\n",
        "df.groupby(\"StoreType\")[\"Sales\"].sum().plot.pie(title='Store Type and Sales', legend=True, autopct='%1.1f%%')\n",
        "plt.show()\n",
        "\n"
      ],
      "metadata": {
        "id": "3SMi92mYp_yx"
      },
      "execution_count": null,
      "outputs": []
    },
    {
      "cell_type": "code",
      "source": [
        "# Bar Plot on Storetype vs Number of Customers \n",
        "plt.figure(figsize=(12,5))\n",
        "plt.subplot(1,2,1)\n",
        "sns.barplot(x=store_type[\"StoreType\"], y = store_type[\"Customers\"])\n",
        "plt.title(\"Number of Customers vs Store type \")\n",
        "\n",
        "\n",
        "# Finding the Customer share percentage on each storetype.\n",
        "plt.subplot(1,2,2)\n",
        "df.groupby(\"StoreType\")[\"Customers\"].sum().plot.pie(title='Customer Share', legend=True, autopct='%1.1f%%', shadow=True)\n",
        "plt.show()"
      ],
      "metadata": {
        "id": "qNEMq8ETr8eI"
      },
      "execution_count": null,
      "outputs": []
    },
    {
      "cell_type": "markdown",
      "source": [
        "##### Insight(s) found from the chart:\n",
        "\n",
        "Here we used pie chart which helps in finding the propotion of each store type in overall business sales, customers.\n",
        "\n",
        "* **\"Storetype a\"** which has **highest** sales and customers\n",
        "* **\"Storetype b\"** which has **lowest** sales and customers"
      ],
      "metadata": {
        "id": "F6T5p64dYrdO"
      }
    },
    {
      "cell_type": "markdown",
      "source": [
        "##### Gained insights :\n",
        "\n",
        "From above charts we can find the performance of each store against the sales,  customers. Also, number of stores is proportional to the sales/customer contribution. \n",
        "\n",
        "Example: Store type 'b' are very less in numbers because of which their contribution in Sales/ Customers is also low."
      ],
      "metadata": {
        "id": "y-Ehk30pYrdP"
      }
    },
    {
      "cell_type": "markdown",
      "source": [
        "#### *Yearwise sales Analysis*"
      ],
      "metadata": {
        "id": "bamQiAODYuh1"
      }
    },
    {
      "cell_type": "code",
      "source": [
        "# Chart - 5 visualization code\n",
        "\n",
        "\n",
        "# Creating separate dataframe for each year\n",
        "# To analyse on sales over each month on the particular year.\n",
        "\n",
        "sales_df_2013 = df[df['Year']== 2013]\n",
        "sales_df_2014 = df[df['Year']==2014]\n",
        "sales_df_2015 = df[df['Year']== 2015]\n",
        "sales_2013 = sales_df_2013.groupby('month')['Sales'].sum().reset_index()\n",
        "sales_2014 = sales_df_2014.groupby('month')['Sales'].sum().reset_index()\n",
        "sales_2015 = sales_df_2015.groupby('month')['Sales'].sum().reset_index()\n",
        "\n",
        "# Line Plot on Sales of store over the years\n",
        "\n",
        "plt.plot(sales_2013.loc[:,\"Sales\"],label='2013',color='red')\n",
        "plt.plot(sales_2014.loc[:,'Sales'],label='2014',color='blue')\n",
        "plt.plot(sales_2015.loc[:,'Sales'],label='2015',color='green')\n",
        "plt.title('Monthly Sales Over Years')\n",
        "plt.xlabel(\"Months\")\n",
        "plt.ylabel(\"Sales\")\n",
        "plt.legend()"
      ],
      "metadata": {
        "id": "TIJwrbroYuh3"
      },
      "execution_count": null,
      "outputs": []
    },
    {
      "cell_type": "markdown",
      "source": [
        "##### Insight(s) found from the chart:\n",
        "\n",
        "We used Line chart for findind the trend of monthwise sales in each year.\n",
        "\n",
        "* The Green lineplot provides the sales on 2015.\n",
        "* Since our data provided till mid of 2015 it stopped in mid.\n",
        "* Overall the **sales at the end of year was peak**.\n",
        "* Sales on **month 2, 6** reaching **local maximum**.\n",
        "* Overall sales was dipping on early month particularly in **January**. "
      ],
      "metadata": {
        "id": "GwzvFGzlYuh3"
      }
    },
    {
      "cell_type": "markdown",
      "source": [
        "#### *Sales analysis with reference to Competition year*"
      ],
      "metadata": {
        "id": "OH-pJp9IphqM"
      }
    },
    {
      "cell_type": "code",
      "source": [
        "# Mean sales over the years when competition opens\n",
        "\n",
        "Mean_sale=df.groupby(['CompetitionOpenSinceYear'])['Sales'].mean()\n",
        "plt.plot(Mean_sale)\n",
        "plt.title('Mean Sale for Competition Open Since Year')\n",
        "plt.xlabel('Competion Open Since Year')\n",
        "plt.ylabel('Mean Sale')"
      ],
      "metadata": {
        "id": "kuRf4wtuphqN"
      },
      "execution_count": null,
      "outputs": []
    },
    {
      "cell_type": "markdown",
      "source": [
        "##### Insight(s) found from the chart:\n",
        "\n",
        "* Sales has been comparatively high when the competition open since year was old.\n",
        "* It shows that, year by year when competitors increases store sales has been decreases.\n",
        "* particularly between 2000 and 2020 sales has been affected in high numbers and increases to achieve peak around 2015-2018\n"
      ],
      "metadata": {
        "id": "_ouA3fa0phqN"
      }
    },
    {
      "cell_type": "markdown",
      "source": [
        "####  Correlation Heatmap"
      ],
      "metadata": {
        "id": "NC_X3p0fY2L0"
      }
    },
    {
      "cell_type": "code",
      "source": [
        "\n",
        "# Create a list of columns that don't need for correlation\n",
        "\n",
        "unwanted_columns_to_corr = [\"Store\",\"Date\",\"Year\", \"Open\"]\n",
        "\n",
        "# Droping \"open\" because it gives blank space in heatmap\n",
        "# Dropping those columns that's not needed to find correlation.\n",
        "\n",
        "correlation_df = df.drop(columns = unwanted_columns_to_corr, axis = 1)"
      ],
      "metadata": {
        "id": "xyC9zolEZNRQ"
      },
      "execution_count": null,
      "outputs": []
    },
    {
      "cell_type": "code",
      "source": [
        "# After Noting down that the correlation map was not created for the \"state holiday\"\n",
        "# We converting the \"string\" records of the \"state holiday\" into integer.\n",
        "# Replacing the state holiday types of \"a\"/\"b\"/\"c\" into 1 \n",
        "# and keeping the 0 as it is.\n",
        "\n",
        "correlation_df['StateHoliday'] = correlation_df['StateHoliday'].apply(lambda x:0 if x == 0 else 1)"
      ],
      "metadata": {
        "id": "quCA2tpltqpL"
      },
      "execution_count": null,
      "outputs": []
    },
    {
      "cell_type": "code",
      "source": [
        "# Plotting Heatmap for find the correlation of our variables\n",
        "\n",
        "plt.figure(figsize=(15,10))\n",
        "sns.heatmap(correlation_df.corr(), cmap=\"Greys\", annot=True)"
      ],
      "metadata": {
        "id": "NsRhf5yGtyrY"
      },
      "execution_count": null,
      "outputs": []
    },
    {
      "cell_type": "markdown",
      "source": [
        "##### Insight(s) found from the chart:\n",
        "\n",
        "The primary purpose of the Heatmap is to display a color-coded correlation matrix for easy visualization of the relationship between the features in the data.\n",
        "\n",
        "\n",
        "$Day of the Week$\n",
        "* Had Negative Relation with sales, customer, promo, school holiday.\n",
        "* Had some positive relation with competition features as well as if the promo is continuing.\n",
        "\n",
        "$Sales$\n",
        "* High positive correlation with the customers.\n",
        "* Decent positive correlation with the Promo given by the company.\n",
        "* Other features are very low correlation with the sales\n",
        "\n",
        "$Customers$\n",
        "* As discussed above for sales.\n",
        "* Both sales and customers are similar relationship with other features.\n",
        "\n",
        "$Promo$\n",
        "* Decent amount of positive relationship with sales.\n",
        "* As competition distance had negative correlation with the Promo, which seams Promotion of the store is reduced or not given if the competitor are placed at more distance from the store.\n",
        "\n",
        "$School Holiday$ and $State Holiday$\n",
        "* Literally school/state holiday not have that much effect on the relationship with the other features.\n",
        "\n",
        "$Competition Distance$\n",
        "* Had some negative relationship with sales and customers.\n",
        "\n",
        "$Promotions$\n",
        "* Both Promo2 and Promo2sinceweek has similar relationship with other features as well as Highly correlated.\n",
        "* But \"Promo2sinceyear\" had some negative relationship with the other two promotion features.\n",
        "* From which we can state that, if the promo2 or/and Promo2sinceweek has high in numbers, it directly impact negatively by reduced promo2sinceyear by the company.\n",
        "\n",
        "$Month$, $Day of year$ and $Week of year$\n",
        "* All these three are highly correlated with each other."
      ],
      "metadata": {
        "id": "YPEH6qLeZNRQ"
      }
    },
    {
      "cell_type": "markdown",
      "source": [
        "#### Chart - 15 - Pair Plot "
      ],
      "metadata": {
        "id": "q29F0dvdveiT"
      }
    },
    {
      "cell_type": "code",
      "source": [
        "df.columns"
      ],
      "metadata": {
        "id": "2wM6ObGW0X1W"
      },
      "execution_count": null,
      "outputs": []
    },
    {
      "cell_type": "code",
      "source": [
        "# Pair Plot visualization code\n",
        "\n",
        "# Create a list of columns that don't need for correlation\n",
        "\n",
        "pairplot_df = df[['Sales','Customers','Promo','CompetitionDistance']]\n",
        "sns.pairplot(data=pairplot_df,kind='scatter')"
      ],
      "metadata": {
        "id": "o58-TEIhveiU"
      },
      "execution_count": null,
      "outputs": []
    },
    {
      "cell_type": "markdown",
      "source": [
        "##### Insight(s) found from the chart:\n",
        "\n",
        "A pairs plot allows us to see both distribution of single variables and relationships between two variables .\n",
        "\n",
        "\n",
        "*   We can see good linear relationship between customers and Sales only.\n",
        "*   Other features are not much linearly relatable.\n"
      ],
      "metadata": {
        "id": "22aHeOlLveiV"
      }
    },
    {
      "cell_type": "markdown",
      "source": [
        "## ***5. Hypothesis Testing***"
      ],
      "metadata": {
        "id": "g-ATYxFrGrvw"
      }
    },
    {
      "cell_type": "markdown",
      "source": [
        "### Based on our chart experiments, we defining three hypothetical statements from the dataset. In the next three questions, we performing hypothesis testing to obtain final conclusion about the statements through our code and statistical testing."
      ],
      "metadata": {
        "id": "Yfr_Vlr8HBkt"
      }
    },
    {
      "cell_type": "markdown",
      "source": [
        "### Hypothetical Statement - 1"
      ],
      "metadata": {
        "id": "8yEUt7NnHlrM"
      }
    },
    {
      "cell_type": "markdown",
      "source": [
        "#### 1. The difference between mean sale when promo applied and not applied"
      ],
      "metadata": {
        "id": "tEA2Xm5dHt1r"
      }
    },
    {
      "cell_type": "markdown",
      "source": [
        "\n",
        "\n",
        "Null hypothesis: The mean sale when promo is not applied is equal to when promo is applied.\n",
        "\n",
        "Alternate hypothesis: The mean sale is not equal when promo is not applied and when applied.\n",
        "$$\\begin{aligned}H_0:\\mu_1&=\\mu_2\\\\H_1:\\mu_1&\\ne\\mu_2\\end{aligned}$$"
      ],
      "metadata": {
        "id": "HI9ZP0laH0D-"
      }
    },
    {
      "cell_type": "markdown",
      "source": [
        "#### 2. Perform an appropriate statistical test."
      ],
      "metadata": {
        "id": "I79__PHVH19G"
      }
    },
    {
      "cell_type": "code",
      "source": [
        "# Perform Statistical Test to obtain P-Value\n",
        "\n",
        "#importing the libraries to conduct hypothesis test\n",
        "import scipy.stats as stats\n",
        "import statistics\n",
        "\n",
        "#Making two different datasets, data_1 is the sale data when Promo is not applied and data_2 is the sale data when Promo is applied\n",
        "data_1=df.loc[(df['Promo'] == 0), 'Sales']\n",
        "data_2=df.loc[(df['Promo']==1),'Sales']\n",
        "\n",
        "\n",
        "#printing the variance of both the dataset and their ratio\n",
        "print('variance of data_1 is %s'%(statistics.variance(data_1)))\n",
        "print('variance of data_2 is %s'%(statistics.variance(data_2)))\n",
        "print('ratio of variances is %r'%(statistics.variance(data_1)/statistics.variance(data_2)))"
      ],
      "metadata": {
        "id": "oZrfquKtyian"
      },
      "execution_count": null,
      "outputs": []
    },
    {
      "cell_type": "code",
      "source": [
        "#Performing the t-test and finding the p-value\n",
        "stats.ttest_ind(a=data_1, b=data_2, equal_var=True)"
      ],
      "metadata": {
        "id": "0cUC4K1kITVz"
      },
      "execution_count": null,
      "outputs": []
    },
    {
      "cell_type": "markdown",
      "source": [
        "* The p-value is 0 which is smaller than 0.05 significance level. So we can reject the null hypothesis and it can be concluded that mean sale is not equal when promo is applied."
      ],
      "metadata": {
        "id": "FlFRUcL_IXW2"
      }
    },
    {
      "cell_type": "markdown",
      "source": [
        "##### Here We used **Two sample t-test with equal variance** Statistical test for obtaing  P-Value\n",
        "\n",
        "##### Reason for choosing specific statistical test:\n",
        "\n",
        "* We were comparing mean of two independent populations and we have observed that the sample variances are approximately equal. So to compare the mean of two independent population with equal variance we can use two sample t-test with equal variance."
      ],
      "metadata": {
        "id": "Ou-I18pAyIpj"
      }
    },
    {
      "cell_type": "markdown",
      "source": [
        "### Hypothetical Statement - 2"
      ],
      "metadata": {
        "id": "4_0_7-oCpUZd"
      }
    },
    {
      "cell_type": "markdown",
      "source": [
        "#### 2. Comparing the mean sale value for assortment type\n",
        "\n",
        "There are 3 types of assortment of a store and we will compare the mean sale of these 3 assortment stores.\n",
        "\n",
        "Null hypothesis: The mean sale for each assortment store is equal.\n",
        "$$H_0:\\mu_1=\\mu_2=\\mu_3$$\n",
        "\n",
        "Alternate hypothesis: At least one assortment will have different mean sale."
      ],
      "metadata": {
        "id": "FnpLGJ-4pUZe"
      }
    },
    {
      "cell_type": "code",
      "source": [
        "# Perform Statistical Test to obtain P-Value\n",
        "\n",
        "#Making three different datasets, data_1 is the sale data when Assortment \"a\", data_2 is the sale data when Assortment \"b\" \n",
        "#and data_3 is the sale data when Assortment \"c\"\n",
        "data_1=df.loc[(df['Assortment'] == 'a'), 'Sales']\n",
        "data_2=df.loc[(df['Assortment']=='b'),'Sales']\n",
        "data_3=df.loc[(df['Assortment']=='c'),'Sales']\n",
        "\n",
        "\n",
        "#Importing the library for F-test and conducting the test\n",
        "from scipy.stats import f_oneway\n",
        "f_oneway(data_1,data_2,data_3)"
      ],
      "metadata": {
        "id": "sWxdNTXNpUZe"
      },
      "execution_count": null,
      "outputs": []
    },
    {
      "cell_type": "markdown",
      "source": [
        "* From the results it can be observed that test statistic is 7309.983 and p-value is 0.0.\n",
        "* The p-value is less than 0.05 significance level thus the null hypothesis can be rejected and it can be said that at least one of the assortment store has different value of mean sale."
      ],
      "metadata": {
        "id": "sO5BSGzoJLCq"
      }
    },
    {
      "cell_type": "markdown",
      "source": [
        "##### Here we used **One way F-test** - Statistical test for obtaining P-Value:\n",
        "\n",
        "Reason for choosing specific statistical test:\n",
        "\n",
        "* When we compare the mean of more than 2 population then one way F-test is conducted and here we compared the mean of 3 populations"
      ],
      "metadata": {
        "id": "dEUvejAfpUZe"
      }
    },
    {
      "cell_type": "markdown",
      "source": [
        "### Hypothetical Statement - 3"
      ],
      "metadata": {
        "id": "bn_IUdTipZyH"
      }
    },
    {
      "cell_type": "markdown",
      "source": [
        "#### 3. Proportion of customers in each store type is equal or different\n",
        "We have 4 types of stores a,b,c and d. We will comare the proportion of customers in each store.\n",
        "* Null hypothesis: Customers are distributed uniformally in each type of store or the proportion of customers are equal in each store.\n",
        "* Alternate hypothesis: The distribution of customers in store type is not uniform."
      ],
      "metadata": {
        "id": "7gWI5rT9pZyH"
      }
    },
    {
      "cell_type": "code",
      "source": [
        "# Perform Statistical Test to obtain P-Value\n",
        "Observed_value_a=round(df.loc[(df['StoreType'] == 'a'), 'Customers'].sum(), 1)\n",
        "Observed_value_b=round(df.loc[(df['StoreType'] == 'b'), 'Customers'].sum(), 1)\n",
        "Observed_value_c=round(df.loc[(df['StoreType'] == 'c'), 'Customers'].sum(), 1)\n",
        "Observed_value_d=round(df.loc[(df['StoreType'] == 'd'), 'Customers'].sum(), 1)"
      ],
      "metadata": {
        "id": "s6AnJQjtpZyI"
      },
      "execution_count": null,
      "outputs": []
    },
    {
      "cell_type": "code",
      "source": [
        "Expected_value=df['Customers'].sum()/4\n",
        "print(Expected_value)"
      ],
      "metadata": {
        "id": "sTNBi3vDKTlw"
      },
      "execution_count": null,
      "outputs": []
    },
    {
      "cell_type": "code",
      "source": [
        "#Expected value will be same for each store type because the expected distribution is uniform.\n",
        "\n",
        "#Importing library\n",
        "import scipy.stats as stats\n",
        "#Finding the test statistic and p_value\n",
        "observed_data=[Observed_value_a,Observed_value_b,Observed_value_c,Observed_value_d]\n",
        "expected_data=[Expected_value,Expected_value,Expected_value,Expected_value]\n",
        "stats.chisquare(observed_data, expected_data)\n"
      ],
      "metadata": {
        "id": "-Xd9NLowKTo9"
      },
      "execution_count": null,
      "outputs": []
    },
    {
      "cell_type": "markdown",
      "source": [
        "* The p-value is 0.0 which is less than 0.05 significance level, so the null hypothesis can be rejected.\n",
        "* We can conclude that the distribution of customers is not uniform and so number of customers in store types is not equal."
      ],
      "metadata": {
        "id": "oqYvDa4sKlmu"
      }
    },
    {
      "cell_type": "markdown",
      "source": [
        "##### Here We used **Chi-square goodneess of fit test** as Statistical test for obtaining P-Value:\n",
        "\n",
        "Reason for choosing specific statistical test:\n",
        "\n",
        "* Goodness of fit test is used to test whether the variable follows the specific distribution or not. Here we were trying to test that the distribution of customers is **unifom** or not in each store type."
      ],
      "metadata": {
        "id": "kLW572S8pZyI"
      }
    },
    {
      "cell_type": "markdown",
      "source": [
        "## ***6. Feature Engineering & Data Pre-processing***"
      ],
      "metadata": {
        "id": "yLjJCtPM0KBk"
      }
    },
    {
      "cell_type": "markdown",
      "source": [
        "### 1. Handling Outliers"
      ],
      "metadata": {
        "id": "id1riN9m0vUs"
      }
    },
    {
      "cell_type": "code",
      "source": [
        "# Handling Outliers & Outlier treatments\n",
        "\n",
        "# Checking the outliers in the \"sales\" column.\n",
        "\n",
        "sns.boxplot(x=df['Sales'])\n"
      ],
      "metadata": {
        "id": "M6w2CzZf04JK"
      },
      "execution_count": null,
      "outputs": []
    },
    {
      "cell_type": "markdown",
      "source": [
        "Observation:\n",
        "* There are **very large outliers** in sales \n",
        "* Reason we can observe that it was because there is **very much difference in sales on state holidays and school holidays**.\n",
        "* We **cannot remove** such large outliers which may lead to loss of valid informations.\n",
        "* Hence we need to **treat the outliers** accordingly using normalization or standardization."
      ],
      "metadata": {
        "id": "xuIVWieaFoU_"
      }
    },
    {
      "cell_type": "code",
      "source": [
        "#dependent variable sale. Distribution of sale\n",
        "plt.figure(figsize=(7,7))\n",
        "sns.distplot(df['Sales'],color=\"g\")"
      ],
      "metadata": {
        "id": "PfNL35DPFrr7"
      },
      "execution_count": null,
      "outputs": []
    },
    {
      "cell_type": "markdown",
      "source": [
        "Observation:\n",
        "* As we see two peak raised in distribution.\n",
        "* First peak is solely due to **sales recorded \"0\"**\n",
        "* After that sales distribution has been **normally distribution**"
      ],
      "metadata": {
        "id": "OC3NMFQuGhW8"
      }
    },
    {
      "cell_type": "markdown",
      "source": [
        "### Treating Sales feature\n",
        "* As we previously saw the distribution of sales (Two Peaks).\n",
        "* We now **dropping** those rows of data which has **zero sales** in order to normal the distribution."
      ],
      "metadata": {
        "id": "-Nt8iq-aGmiR"
      }
    },
    {
      "cell_type": "code",
      "source": [
        "# Dataset records before dropping the sales == 0\n",
        "df.shape"
      ],
      "metadata": {
        "id": "rfCqrzaAGlD7"
      },
      "execution_count": null,
      "outputs": []
    },
    {
      "cell_type": "code",
      "source": [
        "# Dropping the Records where there is no sales.\n",
        "# It observered that there will be minimum of some sales on any day of week\n",
        "# hence we dropping the zero sales records from our dataset\n",
        "\n",
        "df.drop(df[(df['Sales'] ==0)].index, inplace=True)\n",
        "# Dataset records after dropping the sales == 0\n",
        "df.shape\n"
      ],
      "metadata": {
        "id": "YQmb0oZfGpyE"
      },
      "execution_count": null,
      "outputs": []
    },
    {
      "cell_type": "markdown",
      "source": [
        "###Transforming the sales feature\n",
        "* Using SquareRoot\n",
        "* Using Log Transformation "
      ],
      "metadata": {
        "id": "-JJZZvEkGzC6"
      }
    },
    {
      "cell_type": "code",
      "source": [
        "# Plotting for Squareroot Transformation\n",
        "plt.figure(figsize=(15,5))\n",
        "\n",
        "plt.subplot(1,2,1)\n",
        "\n",
        "sns.distplot(np.sqrt(df['Sales']),color=\"y\")\n",
        "plt.title(\"Squareroot transformation of Sales\")\n",
        "\n",
        "# Plotting for Log Transforming\n",
        "plt.subplot(1,2,2)\n",
        "sns.distplot(np.log10(df['Sales']),color=\"y\") \n",
        "plt.title(\"Log transformation of Sales\")\n",
        "plt.show()"
      ],
      "metadata": {
        "id": "0OOGM0yAG04i"
      },
      "execution_count": null,
      "outputs": []
    },
    {
      "cell_type": "code",
      "source": [
        "# Finding Outliers on Customers using Boxplot\n",
        "\n",
        "# Checking for outliers from the \"Customers\" columns.\n",
        "sns.boxplot(x=df['Customers'])"
      ],
      "metadata": {
        "id": "wkM482U2Hq_M"
      },
      "execution_count": null,
      "outputs": []
    },
    {
      "cell_type": "markdown",
      "source": [
        "* The distribution of number of customers are very similar to sales because sales directly depends on number of customers."
      ],
      "metadata": {
        "id": "i6e3s7rgHzuA"
      }
    },
    {
      "cell_type": "code",
      "source": [
        "# Distribution of Customers after droppping the sales == 0\n",
        "\n",
        "plt.figure(figsize=(7,7))\n",
        "sns.distplot(df['Customers'],color=\"g\")\n",
        "plt.title(\"Distribution of Customers after dropping Zero sales\")"
      ],
      "metadata": {
        "id": "6e427q8dH2FW"
      },
      "execution_count": null,
      "outputs": []
    },
    {
      "cell_type": "code",
      "source": [
        "# Using Square root transformation\n",
        "\n",
        "plt.figure(figsize=(15,5))\n",
        "plt.subplot(1,2,1)\n",
        "sns.distplot(np.sqrt(df['Customers']),color=\"y\")\n",
        "plt.title(\"Squareroot transformation of Customers\")\n",
        "\n",
        "# Plotting for Log Transforming\n",
        "plt.subplot(1,2,2)\n",
        "sns.distplot(np.log10(df['Customers']),color=\"y\")\n",
        "plt.title(\"Log transformation of Customers\")\n",
        "plt.show()"
      ],
      "metadata": {
        "id": "lLtiTNoqIHmy"
      },
      "execution_count": null,
      "outputs": []
    },
    {
      "cell_type": "markdown",
      "source": [
        "### Sales during Holidays\n",
        "* We Provided with two types of holiday\n",
        "* Stateholiday and School Holiday"
      ],
      "metadata": {
        "id": "d_vrgUylIx6t"
      }
    },
    {
      "cell_type": "code",
      "source": [
        "df.groupby(['StateHoliday','SchoolHoliday'])['Sales'].mean().unstack()"
      ],
      "metadata": {
        "id": "_-d0l8kLI1RY"
      },
      "execution_count": null,
      "outputs": []
    },
    {
      "cell_type": "code",
      "source": [
        "# Finding outliers on Stateholidy\n",
        "# Box Plot for \"Sales\" during Different \"State Holiday\" or not.\n",
        "\n",
        "plt.figure(figsize=(10,5))\n",
        "ax = sns.boxplot(x=\"Sales\", y=\"StateHoliday\", data=df, orient=\"h\")\n",
        "ax.set_title('Sales for State Holiday',fontsize = 20)\n",
        "ax.set_xlabel(\"Sales\", fontsize = 15)\n",
        "ax.set_ylabel(\"State Holiday\", fontsize = 15)\n"
      ],
      "metadata": {
        "id": "v61KK1oUI527"
      },
      "execution_count": null,
      "outputs": []
    },
    {
      "cell_type": "code",
      "source": [
        "# Finding outliers on School holidays\n",
        "# Box Plotting on Sales during School Holiday or not.\n",
        "\n",
        "plt.figure(figsize=(10,5))\n",
        "ax = sns.boxplot(x=\"Sales\", y=\"SchoolHoliday\", data=df, orient=\"h\")\n",
        "ax.set_title('Sales for School Holiday',fontsize = 20)\n",
        "ax.set_xlabel(\"Sales\", fontsize = 15)\n",
        "ax.set_ylabel(\"School Holiday\", fontsize = 15)"
      ],
      "metadata": {
        "id": "W2AvdITBJFs9"
      },
      "execution_count": null,
      "outputs": []
    },
    {
      "cell_type": "code",
      "source": [
        "# finding outliers on Assortment\n",
        "plt.figure(figsize=(20,6))\n",
        "plt.subplot(1,2,1)\n",
        "ax = sns.boxplot(x=\"Sales\", y=\"Assortment\", data=df, orient=\"h\")\n",
        "ax.set_title('Sales according to Assortment',fontsize = 20)\n",
        "ax.set_xlabel(\"Sales\", fontsize = 15)\n",
        "ax.set_ylabel(\"Assortment\", fontsize = 15)\n",
        "\n",
        "\n",
        "plt.subplot(1,2,2)\n",
        "ax = sns.boxplot(x=\"Customers\", y=\"Assortment\", data=df, orient=\"h\")\n",
        "ax.set_title('Customers according to Assortment',fontsize = 20)\n",
        "ax.set_xlabel(\"Customers\", fontsize = 15)\n",
        "ax.set_ylabel(\"Assortment\", fontsize = 15)\n",
        "plt.show()"
      ],
      "metadata": {
        "id": "0CoiyrT8JQel"
      },
      "execution_count": null,
      "outputs": []
    },
    {
      "cell_type": "code",
      "source": [
        "#Checking the Number of Records with shops not opened. \n",
        "\n",
        "(df[df.Open == 0]).shape"
      ],
      "metadata": {
        "id": "i9-ZvsQ3JwfD"
      },
      "execution_count": null,
      "outputs": []
    },
    {
      "cell_type": "code",
      "source": [
        "# Checking Distribution of Sales\n",
        "plt.figure(figsize=(10,6))\n",
        "sns.distplot(x=df['Sales'],color='g')"
      ],
      "metadata": {
        "id": "1UwLjNb5JygH"
      },
      "execution_count": null,
      "outputs": []
    },
    {
      "cell_type": "code",
      "source": [
        "# Transforming the Sales Columns using \"Log Transformation\"\n",
        "\n",
        "df['Sales'] = np.log(df['Sales'])\n",
        "df.dropna(inplace=True)\n",
        "sns.distplot(x=df['Sales'],color='y')"
      ],
      "metadata": {
        "id": "QgLC90yVKIwD"
      },
      "execution_count": null,
      "outputs": []
    },
    {
      "cell_type": "code",
      "source": [
        "df[\"StateHoliday\"].value_counts()"
      ],
      "metadata": {
        "id": "oxJWV48rKKCy"
      },
      "execution_count": null,
      "outputs": []
    },
    {
      "cell_type": "code",
      "source": [
        "# We already known about the \"State Holiday\" and its record values\n",
        "# we replacing the values as Boolean (0 or 1)\n",
        "\n",
        "df['StateHoliday'] = df['StateHoliday'].apply(lambda x:0 if x == 0 else 1)\n",
        "\n",
        "df[\"StateHoliday\"].value_counts()"
      ],
      "metadata": {
        "id": "JhuR2HDyKKIw"
      },
      "execution_count": null,
      "outputs": []
    },
    {
      "cell_type": "code",
      "source": [
        "df[\"CompetitionOpenSinceYear\"].value_counts()"
      ],
      "metadata": {
        "id": "Y_r1ctPdxve1"
      },
      "execution_count": null,
      "outputs": []
    },
    {
      "cell_type": "code",
      "source": [
        "df[\"month\"].value_counts()"
      ],
      "metadata": {
        "id": "D3sqtdl2xvls"
      },
      "execution_count": null,
      "outputs": []
    },
    {
      "cell_type": "code",
      "source": [
        "# Combining the competition features\n",
        "# We provided with competition since month and competition since year features\n",
        "# we combining it as a single feature in number of months\n",
        "\n",
        "df['CompetitionOpened'] = (df['Year'] - df['CompetitionOpenSinceYear'])*12 + (df['month'] - df['CompetitionOpenSinceMonth'])\n",
        "\n",
        "# (2015-2010)*12 + (11-8) = 63 months"
      ],
      "metadata": {
        "id": "jN2Nd3otxvoj"
      },
      "execution_count": null,
      "outputs": []
    },
    {
      "cell_type": "code",
      "source": [
        "df[\"CompetitionOpened\"].describe()"
      ],
      "metadata": {
        "id": "nRtsG7gTxvrO"
      },
      "execution_count": null,
      "outputs": []
    },
    {
      "cell_type": "code",
      "source": [
        "# To deal with the Negative values in the periodical column\n",
        "\n",
        "df['CompetitionOpened'] = df['CompetitionOpened'].apply(lambda x:0 if x < 0 else x)"
      ],
      "metadata": {
        "id": "51NgBNPaxvt7"
      },
      "execution_count": null,
      "outputs": []
    },
    {
      "cell_type": "code",
      "source": [
        "#Now Dropping the features which used to combine \"CompetitionOpened\"\n",
        "df.drop(['CompetitionOpenSinceMonth','CompetitionOpenSinceYear'], axis=1,inplace=True)"
      ],
      "metadata": {
        "id": "P-uGyA1txvwj"
      },
      "execution_count": null,
      "outputs": []
    },
    {
      "cell_type": "code",
      "source": [
        "# Similar to combining the Competition features, we now try to combine the Promotional features\n",
        "\n",
        "df['Promo2Open'] = (df['Year'] - df['Promo2SinceYear'])*12 + ((df['weekofyear'] - df['Promo2SinceWeek'])/4)\n",
        "\n",
        "df['Promo2Open'].describe()"
      ],
      "metadata": {
        "id": "41NYfreNyUeM"
      },
      "execution_count": null,
      "outputs": []
    },
    {
      "cell_type": "code",
      "source": [
        "# Dealing with Negative values\n",
        "df[\"PromoInterval\"] = df[\"PromoInterval\"].apply(lambda x:0 if x == 'NA' else 1)\n",
        "\n",
        "df['Promo2Open'] = df['Promo2Open'].apply(lambda x:0 if x < 0 else x) * df['Promo2']"
      ],
      "metadata": {
        "id": "8sfkWia9yUhK"
      },
      "execution_count": null,
      "outputs": []
    },
    {
      "cell_type": "code",
      "source": [
        "df[\"PromoInterval\"].value_counts()"
      ],
      "metadata": {
        "id": "8sTUOSZwyUkO"
      },
      "execution_count": null,
      "outputs": []
    },
    {
      "cell_type": "code",
      "source": [
        "#Checking the implementation\n",
        "\n",
        "df[\"PromoInterval\"][0:15]"
      ],
      "metadata": {
        "id": "MvuNBYtRyUm2"
      },
      "execution_count": null,
      "outputs": []
    },
    {
      "cell_type": "code",
      "source": [
        "# Checking the Unique values and its count. \n",
        "\n",
        "df[\"PromoInterval\"].value_counts()"
      ],
      "metadata": {
        "id": "AFqPOy2w0ckT"
      },
      "execution_count": null,
      "outputs": []
    },
    {
      "cell_type": "code",
      "source": [
        "df.index"
      ],
      "metadata": {
        "id": "7GL3FA0ZyUpm"
      },
      "execution_count": null,
      "outputs": []
    },
    {
      "cell_type": "code",
      "source": [
        "df.set_index([\"Date\",\"Store\"], inplace = True)\n"
      ],
      "metadata": {
        "id": "MdHv6WsvyUsd"
      },
      "execution_count": null,
      "outputs": []
    },
    {
      "cell_type": "code",
      "source": [
        "df.index"
      ],
      "metadata": {
        "id": "UXaHDA9oyUvU"
      },
      "execution_count": null,
      "outputs": []
    },
    {
      "cell_type": "code",
      "source": [
        "df.sort_index(inplace = True)"
      ],
      "metadata": {
        "id": "IFqfwPXayUxc"
      },
      "execution_count": null,
      "outputs": []
    },
    {
      "cell_type": "code",
      "source": [
        "df.head(1)"
      ],
      "metadata": {
        "id": "UGl0L8q4yU0e"
      },
      "execution_count": null,
      "outputs": []
    },
    {
      "cell_type": "code",
      "source": [
        "df.drop(['Promo2SinceYear','Promo2SinceWeek'],axis=1,inplace=True)"
      ],
      "metadata": {
        "id": "XnPRLXJb2N-7"
      },
      "execution_count": null,
      "outputs": []
    },
    {
      "cell_type": "code",
      "source": [
        "df.info()"
      ],
      "metadata": {
        "id": "g5Jr6l2i2N8F"
      },
      "execution_count": null,
      "outputs": []
    },
    {
      "cell_type": "code",
      "source": [
        "# Saving the cleaned data\n",
        "df_cleaned = df.to_csv(\"/content/drive/MyDrive/Colab Notebooks/AlmaBetter/Capstone_project/Regression_sale prediction/Data/df_cleaned.csv\")\n"
      ],
      "metadata": {
        "id": "QWHXK5pj2OBZ"
      },
      "execution_count": null,
      "outputs": []
    },
    {
      "cell_type": "markdown",
      "source": [
        "### 3. Categorical Encoding"
      ],
      "metadata": {
        "id": "89xtkJwZ18nB"
      }
    },
    {
      "cell_type": "code",
      "source": [
        "# Encode your categorical columns\n",
        "\n",
        "\n",
        "#categorical features to be encoded.\n",
        "\n",
        "categorical_cols = ['DayOfWeek', 'StoreType', 'Assortment']\n",
        "\n",
        "#fitting encoder\n",
        "\n",
        "encoder = OneHotEncoder(sparse=False)"
      ],
      "metadata": {
        "id": "21JmIYMG2hEo"
      },
      "execution_count": null,
      "outputs": []
    },
    {
      "cell_type": "markdown",
      "source": [
        "One hot encoding is a process by which categorical variables are converted into a form that could be provided to ML algorithms to do a better job in prediction.\n",
        "\n",
        "One-hot encoding is also called dummy encoding due to the fact that the transformation of categorical features results into dummy features."
      ],
      "metadata": {
        "id": "67NQN5KX2AMe"
      }
    },
    {
      "cell_type": "markdown",
      "source": [
        "### 4. Data Transformation, Scaling and Splitting"
      ],
      "metadata": {
        "id": "rMDnDkt2B6du"
      }
    },
    {
      "cell_type": "code",
      "source": [
        "#Spliting the data for the logic explained above.\n",
        "\n",
        "#train\n",
        "start_train = pd.to_datetime(\"2013-01-01\")\n",
        "end_train = pd.to_datetime(\"2015-06-14\")\n",
        "df_train = df.loc[start_train:end_train]\n",
        "\n",
        "#test\n",
        "start_test = pd.to_datetime(\"2015-06-15\")\n",
        "end_test = pd.to_datetime(\"2015-07-31\")\n",
        "df_test = df.loc[start_test:end_test]"
      ],
      "metadata": {
        "id": "3uThoE1h4pNg"
      },
      "execution_count": null,
      "outputs": []
    },
    {
      "cell_type": "code",
      "source": [
        "# Creating the Separate variable called X_train, y_train from \"df_train\" dataset.\n",
        "# Creating the Separate variable called X_test, y_test from \"df_test\" dataset.\n",
        "\n",
        "X_train = df_train.drop('Sales',axis=1)\n",
        "y_train = df_train[['Sales']]\n",
        "X_test = df_test.drop('Sales',axis=1)\n",
        "y_test = df_test[['Sales']]\n",
        "print(f'The shape of X_train is: {X_train.shape}')\n",
        "print(f'The shape of y_train is: {y_train.shape}')\n",
        "print(f'The shape of X_test is: {X_test.shape}')\n",
        "print(f'The shape of y_test is: {y_test.shape}')"
      ],
      "metadata": {
        "id": "fg8eFMeK4r8P"
      },
      "execution_count": null,
      "outputs": []
    },
    {
      "cell_type": "code",
      "source": [
        "# Training\n",
        "\n",
        "encoder.fit(X_train[categorical_cols])\n",
        "encoded_features = list(encoder.get_feature_names(categorical_cols))\n",
        "X_train[encoded_features] = encoder.transform(X_train[categorical_cols])\n",
        "\n",
        "# Testing\n",
        "\n",
        "X_test[encoded_features] = encoder.transform(X_test[categorical_cols])\n",
        "\n",
        "# Dropping original features\n",
        "X_train.drop(categorical_cols,axis=1,inplace=True)\n",
        "X_test.drop(categorical_cols,axis=1,inplace=True)"
      ],
      "metadata": {
        "id": "KnAHIVzi4zN_"
      },
      "execution_count": null,
      "outputs": []
    },
    {
      "cell_type": "code",
      "source": [
        "# Scaling your data\n",
        "\n",
        "# We using StandardScaler for Scaling the data.\n",
        "# Scaling both Training and Testing Data.\n",
        "\n",
        "from sklearn.preprocessing import StandardScaler\n",
        "stdsc = StandardScaler()\n",
        "X_train[list(X_train.columns)] = stdsc.fit_transform(X_train[list(X_train.columns)])\n",
        "X_test[list(X_test.columns)] = stdsc.transform(X_test[list(X_test.columns)])\n",
        "\n",
        "scaler = StandardScaler()\n",
        "y_train[list(y_train.columns)] = scaler.fit_transform(y_train[list(y_train.columns)])\n",
        "y_test[list(y_test.columns)] = scaler.transform(y_test[list(y_train.columns)])\n"
      ],
      "metadata": {
        "id": "dL9LWpySC6x_"
      },
      "execution_count": null,
      "outputs": []
    },
    {
      "cell_type": "markdown",
      "source": [
        "\n",
        "StandardScaler is used to resize the distribution of values ​​so that the mean of the observed values ​​is 0 and the standard deviation is 1"
      ],
      "metadata": {
        "id": "yiiVWRdJDDil"
      }
    },
    {
      "cell_type": "markdown",
      "source": [
        "### 5. Handling Imbalanced Dataset"
      ],
      "metadata": {
        "id": "P1XJ9OREExlT"
      }
    },
    {
      "cell_type": "markdown",
      "source": [
        "Here in our dataset, these is no imbalance. \n",
        "In machine learning, “imbalanced classes” is a familiar problem particularly occurring in classification when we have datasets with an unequal ratio of data points in each class."
      ],
      "metadata": {
        "id": "qbet1HwdGDTz"
      }
    },
    {
      "cell_type": "markdown",
      "source": [
        "## ***7. ML Model Implementation***"
      ],
      "metadata": {
        "id": "VfCC591jGiD4"
      }
    },
    {
      "cell_type": "markdown",
      "source": [
        "### ML Model - 1 (Baseline Model - using DecisionTree algorithm)"
      ],
      "metadata": {
        "id": "OB4l2ZhMeS1U"
      }
    },
    {
      "cell_type": "code",
      "source": [
        "# ML Model - 1 Implementation\n",
        "\n",
        "# Fit the Algorithm\n",
        "\n",
        "dt_basic = DecisionTreeRegressor(random_state=42)\n",
        "dt_basic.fit(X_train,y_train)\n",
        "\n",
        "# Predict on the model\n",
        "\n",
        "def model_evaluation(model_name,model_variable,X_train,y_train,X_test,y_test):\n",
        "  ''' This function predicts and evaluates various models for regression algorithms, visualizes results \n",
        "      and creates a dataframe that compares the various models.'''\n",
        "      \n",
        "  #making predictions\n",
        "  y_pred_train = model_variable.predict(X_train)\n",
        "  y_pred_test = model_variable.predict(X_test)\n",
        "\n",
        "  # Plot the test results\n",
        "  a = y_test.copy()\n",
        "  a['Pred Sales'] = y_pred_test.tolist()\n",
        "  df_plot = a.reset_index(level=['Date'])\n",
        "  plot = df_plot.groupby('Date')['Sales','Pred Sales'].sum()\n",
        "  sns.lineplot(data = plot)\n",
        "  plt.ylabel(\"Total Sales and Predicted Sales\")\n",
        "  plt.xticks(rotation = 25)\n",
        "\n",
        "  #calculate metrics and print the results for test set\n",
        "  \n",
        "  #Mean Absolute Error or MAE\n",
        "  \n",
        "  MAE_train = round(mean_absolute_error(y_train,y_pred_train),6)\n",
        "  MAE_test = round(mean_absolute_error(y_test,y_pred_test),6)\n",
        "  \n",
        "  #Mean Squared Error or MSE\n",
        "  \n",
        "  MSE_train = round(mean_squared_error(y_train,y_pred_train),6)\n",
        "  MSE_test = round(mean_squared_error(y_test,y_pred_test),6)\n",
        "  \n",
        "  #Root Mean Squared Error or RMSE\n",
        "  \n",
        "  RMSE_train = round(mean_squared_error(y_train,y_pred_train,squared=False),6)\n",
        "  RMSE_test = round(mean_squared_error(y_test,y_pred_test,squared=False),6)\n",
        "  \n",
        "  #R2\n",
        "  \n",
        "  R2_train = round(r2_score(y_train, y_pred_train),6)\n",
        "  R2_test = round(r2_score(y_test, y_pred_test),6)\n",
        "  \n",
        "  #Adjusted R2\n",
        "  Adj_r2_train = round(1 - (1-r2_score(y_train, y_pred_train)) * (len(y_train)-1)/(len(y_train)-X_train.shape[1]-1),6)\n",
        "  Adj_r2_test = round(1 - (1-r2_score(y_test, y_pred_test)) * (len(y_test)-1)/(len(y_test)-X_test.shape[1]-1),6)\n",
        "  \n",
        "  #printing test results\n",
        "  print(f'The Mean Absolute Error for the validation set is {MAE_test}')\n",
        "  print(f'The Mean Squared Error for the validation set is {MSE_test}')\n",
        "  print(f'The Root Mean Squared Error for the validation set is {RMSE_test}')\n",
        "  print(f'The R^2 for the validation set is {R2_test}')\n",
        "  print(f'The Adjusted R^2 for the validation set is {Adj_r2_test}')\n",
        "\n",
        "  #Saving our results\n",
        "  global comparison_columns\n",
        "  metric_scores = [model_name,MAE_train,MSE_train,RMSE_train,R2_train,Adj_r2_train,MAE_test,MSE_test,RMSE_test,R2_test,Adj_r2_test]\n",
        "  final_dict = dict(zip(comparison_columns,metric_scores))\n",
        "  return [final_dict]"
      ],
      "metadata": {
        "id": "7ebyywQieS1U"
      },
      "execution_count": null,
      "outputs": []
    },
    {
      "cell_type": "code",
      "source": [
        "#Creating the function to create the comparison table\n",
        "final_list = []\n",
        "def add_list_to_final_df(dict_list):\n",
        "  global final_list\n",
        "  for elem in dict_list:\n",
        "    final_list.append(elem)\n",
        "  global comparison_df\n",
        "  comparison_df = pd.DataFrame(final_list, columns= comparison_columns)"
      ],
      "metadata": {
        "id": "W5mUcVpw7msy"
      },
      "execution_count": null,
      "outputs": []
    },
    {
      "cell_type": "markdown",
      "source": [
        "**Metrics used for comparision:**\n",
        "\n",
        "**MSE:** It is simply the average of the squared difference between the target value and the value predicted by the regression model. It used when we want to punish the outliers in the dataset.\n",
        "\n",
        "**RMSE:** It used when we don’t want outliers to play a big role. In General,  the lower the RMSE, the more closely a model is able to predict the actual observations.\n",
        "\n",
        "**MAE:** The absolute difference between the target value and the value predicted by the model. MAE is not applicable when we pay more attention to outliers.\n",
        "\n",
        "\n",
        "**R2:** The metric helps us to compare our current model with a constant baseline and tells us how much our model is better.\n",
        "\n",
        "**Adjusted R2:** R2 suffers from the problem that the scores improve on increasing terms even though the model is not improving which may misguide the researcher"
      ],
      "metadata": {
        "id": "QrH8lgCbbo73"
      }
    },
    {
      "cell_type": "code",
      "source": [
        "# Columns names in the Metrics comparision Table.\n",
        "\n",
        "comparison_columns = ['Model_Name', 'Train_MAE', 'Train_MSE', 'Train_RMSE', 'Train_R2', 'Train_Adj_R2' ,'Test_MAE', 'Test_MSE', 'Test_RMSE', 'Test_R2', 'Test_Adj_R2']"
      ],
      "metadata": {
        "id": "52n-pGlu7qDd"
      },
      "execution_count": null,
      "outputs": []
    },
    {
      "cell_type": "markdown",
      "source": [
        "#### 1. Explain the ML Model used and it's performance using Evaluation metric Score Chart."
      ],
      "metadata": {
        "id": "ArJBuiUVfxKd"
      }
    },
    {
      "cell_type": "code",
      "source": [
        "# Visualizing evaluation Metric Score chart\n",
        "\n",
        "#Decision tree evaluation\n",
        "\n",
        "decision_tree = model_evaluation('Decision Tree Regressor',dt_basic,X_train,y_train,X_test,y_test)"
      ],
      "metadata": {
        "id": "rqD5ZohzfxKe"
      },
      "execution_count": null,
      "outputs": []
    },
    {
      "cell_type": "code",
      "source": [
        "#Add result to comparision_df\n",
        "add_list_to_final_df(decision_tree)"
      ],
      "metadata": {
        "id": "FsOU2_L-8C5C"
      },
      "execution_count": null,
      "outputs": []
    },
    {
      "cell_type": "code",
      "source": [
        "# Metrics Comparision Table\n",
        "\n",
        "comparison_df.head(1)"
      ],
      "metadata": {
        "id": "f5GHW7qh8FyC"
      },
      "execution_count": null,
      "outputs": []
    },
    {
      "cell_type": "markdown",
      "source": [
        "### ML Model - 2 (Using Radomforest algorithm)"
      ],
      "metadata": {
        "id": "dJ2tPlVmpsJ0"
      }
    },
    {
      "cell_type": "markdown",
      "source": [
        "#### 1. Explaining  the ML Model used and it's performance using Evaluation metric Score Chart."
      ],
      "metadata": {
        "id": "JWYfwnehpsJ1"
      }
    },
    {
      "cell_type": "code",
      "source": [
        "random_forest = RandomForestRegressor(n_estimators=100,random_state=42)\n",
        "random_forest.fit(X_train,y_train)\n",
        "\n",
        "#Creating the Function to evaluate the model\n",
        "def model_evaluation(model_name,model_variable,X_train,y_train,X_test,y_test):\n",
        "  ''' This function predicts and evaluates various models for regression algorithms, visualizes results \n",
        "      and creates a dataframe that compares the various models.'''\n",
        "      \n",
        "  #making predictions\n",
        "  y_pred_train = model_variable.predict(X_train)\n",
        "  y_pred_test = model_variable.predict(X_test)\n",
        "\n",
        "  # Plot the test results\n",
        "  a = y_test.copy()\n",
        "  a['Pred Sales'] = y_pred_test.tolist()\n",
        "  df_plot = a.reset_index(level=['Date'])\n",
        "  plot = df_plot.groupby('Date')['Sales','Pred Sales'].sum()\n",
        "  sns.lineplot(data = plot)\n",
        "  plt.ylabel(\"Total Sales and Predicted Sales\")\n",
        "  plt.xticks(rotation = 25)\n",
        "\n",
        "  #calculate metrics and print the results for test set\n",
        "  \n",
        "  #Mean Absolute Error or MAE\n",
        "  \n",
        "  MAE_train = round(mean_absolute_error(y_train,y_pred_train),6)\n",
        "  MAE_test = round(mean_absolute_error(y_test,y_pred_test),6)\n",
        "  \n",
        "  #Mean Squared Error or MSE\n",
        "  \n",
        "  MSE_train = round(mean_squared_error(y_train,y_pred_train),6)\n",
        "  MSE_test = round(mean_squared_error(y_test,y_pred_test),6)\n",
        "  \n",
        "  #Root Mean Squared Error or RMSE\n",
        "  \n",
        "  RMSE_train = round(mean_squared_error(y_train,y_pred_train,squared=False),6)\n",
        "  RMSE_test = round(mean_squared_error(y_test,y_pred_test,squared=False),6)\n",
        "  \n",
        "  #R2\n",
        "  \n",
        "  R2_train = round(r2_score(y_train, y_pred_train),6)\n",
        "  R2_test = round(r2_score(y_test, y_pred_test),6)\n",
        "  \n",
        "  #Adjusted R2\n",
        "  Adj_r2_train = round(1 - (1-r2_score(y_train, y_pred_train)) * (len(y_train)-1)/(len(y_train)-X_train.shape[1]-1),6)\n",
        "  Adj_r2_test = round(1 - (1-r2_score(y_test, y_pred_test)) * (len(y_test)-1)/(len(y_test)-X_test.shape[1]-1),6)\n",
        "  \n",
        "  #printing test results\n",
        "  print(f'The Mean Absolute Error for the validation set is {MAE_test}')\n",
        "  print(f'The Mean Squared Error for the validation set is {MSE_test}')\n",
        "  print(f'The Root Mean Squared Error for the validation set is {RMSE_test}')\n",
        "  print(f'The R^2 for the validation set is {R2_test}')\n",
        "  print(f'The Adjusted R^2 for the validation set is {Adj_r2_test}')\n",
        "\n",
        "  #Saving our results\n",
        "  global comparison_columns\n",
        "  metric_scores = [model_name,MAE_train,MSE_train,RMSE_train,R2_train,Adj_r2_train,MAE_test,MSE_test,RMSE_test,R2_test,Adj_r2_test]\n",
        "  final_dict = dict(zip(comparison_columns,metric_scores))\n",
        "  return [final_dict]"
      ],
      "metadata": {
        "id": "8HQhlB3w8QmZ"
      },
      "execution_count": null,
      "outputs": []
    },
    {
      "cell_type": "code",
      "source": [
        "#Creating the function to create the comparison table\n",
        "final_list = []\n",
        "def add_list_to_final_df(dict_list):\n",
        "  global final_list\n",
        "  for elem in dict_list:\n",
        "    final_list.append(elem)\n",
        "  global comparison_df1\n",
        "  comparison_df1 = pd.DataFrame(final_list, columns= comparison_columns)"
      ],
      "metadata": {
        "id": "ebfb_ue28psU"
      },
      "execution_count": null,
      "outputs": []
    },
    {
      "cell_type": "code",
      "source": [
        "# Columns names in the Metrics comparision Table.\n",
        "\n",
        "comparison_columns = ['Model_Name', 'Train_MAE', 'Train_MSE', 'Train_RMSE', 'Train_R2', 'Train_Adj_R2' ,'Test_MAE', 'Test_MSE', 'Test_RMSE', 'Test_R2', 'Test_Adj_R2']"
      ],
      "metadata": {
        "id": "W27t9Z588130"
      },
      "execution_count": null,
      "outputs": []
    },
    {
      "cell_type": "code",
      "source": [
        "# Visualizing evaluation Metric Score chart\n",
        "\n",
        "#Random forest evaluation\n",
        "\n",
        "random_f = model_evaluation('Random Forest Regressor',random_forest,X_train,y_train,X_test,y_test)"
      ],
      "metadata": {
        "id": "yEl-hgQWpsJ1"
      },
      "execution_count": null,
      "outputs": []
    },
    {
      "cell_type": "code",
      "source": [
        "add_list_to_final_df(random_f)"
      ],
      "metadata": {
        "id": "pj2o_CX-G8vB"
      },
      "execution_count": null,
      "outputs": []
    },
    {
      "cell_type": "code",
      "source": [
        "# Combining the Evaluation metrics for both algorithms. \n",
        "\n",
        "result = comparison_df.append(comparison_df1)\n",
        "result.set_index(\"Model_Name\", inplace = True)\n",
        "display(result.drop_duplicates())\n"
      ],
      "metadata": {
        "id": "EYmcf1scFT8k"
      },
      "execution_count": null,
      "outputs": []
    },
    {
      "cell_type": "markdown",
      "source": [
        "### ML Model - 3 (Using Linear Regression)"
      ],
      "metadata": {
        "id": "Fze-IPXLpx6K"
      }
    },
    {
      "cell_type": "code",
      "source": [
        "# # ML Model - 3 Implementation\n",
        "\n",
        "\n",
        "from sklearn.linear_model import LinearRegression\n",
        "\n",
        "\n",
        "reg =LinearRegression().fit(X_train, y_train)\n"
      ],
      "metadata": {
        "id": "FFrSXAtrpx6M"
      },
      "execution_count": null,
      "outputs": []
    },
    {
      "cell_type": "code",
      "source": [
        "reg.score(X_train, y_train)"
      ],
      "metadata": {
        "id": "0qUwF9ubWJPg"
      },
      "execution_count": null,
      "outputs": []
    },
    {
      "cell_type": "code",
      "source": [
        "reg.coef_  #regression coefficient of each feature"
      ],
      "metadata": {
        "id": "mHrfIRakWO7q"
      },
      "execution_count": null,
      "outputs": []
    },
    {
      "cell_type": "code",
      "source": [
        "reg.intercept_ #intercept of regression equation"
      ],
      "metadata": {
        "id": "PRHXw2LIWRH_"
      },
      "execution_count": null,
      "outputs": []
    },
    {
      "cell_type": "code",
      "source": [
        "y_pred=reg.predict(X_test)"
      ],
      "metadata": {
        "id": "0vM-3YFOWUkv"
      },
      "execution_count": null,
      "outputs": []
    },
    {
      "cell_type": "code",
      "source": [
        "#Creating the function to create the comparison table\n",
        "final_list = []\n",
        "def add_list_to_final_df(dict_list):\n",
        "  global final_list\n",
        "  for elem in dict_list:\n",
        "    final_list.append(elem)\n",
        "  global comparison_df2\n",
        "  comparison_df2 = pd.DataFrame(final_list, columns= comparison_columns)"
      ],
      "metadata": {
        "id": "unO4nTLgWxnw"
      },
      "execution_count": null,
      "outputs": []
    },
    {
      "cell_type": "code",
      "source": [
        "# Columns names in the Metrics comparision Table.\n",
        "\n",
        "comparison_columns = ['Model_Name', 'Train_MAE', 'Train_MSE', 'Train_RMSE', 'Train_R2', 'Train_Adj_R2' ,'Test_MAE', 'Test_MSE', 'Test_RMSE', 'Test_R2', 'Test_Adj_R2']"
      ],
      "metadata": {
        "id": "9zqcZ7i5W6_Q"
      },
      "execution_count": null,
      "outputs": []
    },
    {
      "cell_type": "code",
      "source": [
        "Lin_reg=model_evaluation('Linear Regression',reg,X_train,y_train,X_test,y_test)"
      ],
      "metadata": {
        "id": "cIxfjr7XWlgI"
      },
      "execution_count": null,
      "outputs": []
    },
    {
      "cell_type": "code",
      "source": [
        "add_list_to_final_df(Lin_reg)"
      ],
      "metadata": {
        "id": "vLHYPz21XT-b"
      },
      "execution_count": null,
      "outputs": []
    },
    {
      "cell_type": "code",
      "source": [
        "comparison_df2"
      ],
      "metadata": {
        "id": "E6H53kjJXJtV"
      },
      "execution_count": null,
      "outputs": []
    },
    {
      "cell_type": "code",
      "source": [
        "result = comparison_df.append(comparison_df1).append(comparison_df2)\n",
        "result.set_index(\"Model_Name\", inplace = True)\n",
        "display(result.drop_duplicates())"
      ],
      "metadata": {
        "id": "QwjflMzXhn9u"
      },
      "execution_count": null,
      "outputs": []
    },
    {
      "cell_type": "code",
      "source": [
        " #making predictions\n",
        "y_pred_train= reg.predict(X_train)\n",
        "y_pred_test= reg.predict(X_test)\n",
        "\n",
        "# Plot the test results\n",
        "a = y_test.copy()\n",
        "a['Pred Sales'] = y_pred_test\n",
        "df_plot = a.reset_index(level=['Date'])\n",
        "plot = df_plot.groupby('Date')['Sales','Pred Sales'].sum()\n",
        "sns.lineplot(data = plot)\n",
        "plt.ylabel(\"Total Sales and Predicted Sales\")\n",
        "plt.xticks(rotation = 25)"
      ],
      "metadata": {
        "id": "KNG9mrfvgPEQ"
      },
      "execution_count": null,
      "outputs": []
    },
    {
      "cell_type": "markdown",
      "source": [
        "### 1. Evaluation metrics considered for a positive business impact: \n",
        "\n",
        "We used all the evaluation matrics for regression business problem and considered that **Adjusted R squared** evaluation matrics bringing positive business impact."
      ],
      "metadata": {
        "id": "h_CCil-SKHpo"
      }
    },
    {
      "cell_type": "markdown",
      "source": [
        "### 2. ML model we choose from the above created models as our final prediction model is **Random Forest Regressor** due to improved evaluation matrics compared to other models"
      ],
      "metadata": {
        "id": "cBFFvTBNJzUa"
      }
    },
    {
      "cell_type": "markdown",
      "source": [
        "### 3. We choose **Random Forest Regressor** as a best model and the feature importance in our model as plotted below."
      ],
      "metadata": {
        "id": "HvGl1hHyA_VK"
      }
    },
    {
      "cell_type": "code",
      "source": [
        "#visualising feature importance of XGB\n",
        "\n",
        "feature_imp = pd.DataFrame({\"Variable\": X_test.columns,\"Importance\": random_forest.feature_importances_})\n",
        "feature_imp.sort_values(by=\"Importance\", ascending=False, inplace = True)\n",
        "sns.barplot(x=feature_imp['Importance'], y= feature_imp['Variable'])\n",
        "plt.rcParams.update({'figure.figsize':(7,7),'figure.dpi':100})"
      ],
      "metadata": {
        "id": "gW5b_pbiitbh"
      },
      "execution_count": null,
      "outputs": []
    },
    {
      "cell_type": "code",
      "source": [
        "# Creating the variables for r2 score \n",
        "\n",
        "decision_tree_r2 = 0.921358\n",
        "random_forest_r2 = 0.962439\t\n",
        "\n",
        "# Improvement % from our Baseline model\n",
        "\n",
        "improvement_r = ((random_forest_r2 - decision_tree_r2)/decision_tree_r2)*100\n",
        "print('Model Performance')\n",
        "print(f'Improvement of {round(improvement_r,3)} % was seen in Random Forest against Decision Tree.')"
      ],
      "metadata": {
        "id": "ZJKfPPQUkEmE"
      },
      "execution_count": null,
      "outputs": []
    },
    {
      "cell_type": "markdown",
      "source": [
        "# **Conclusion**"
      ],
      "metadata": {
        "id": "gCX9965dhzqZ"
      }
    },
    {
      "cell_type": "markdown",
      "source": [
        "Businesses use sales forecasts to determine what revenue they will be generating in a particular timespan to empower themselves with powerful and strategic business plans. Important decisions such as budgets, hiring, incentives, goals, acquisitions and various other growth plans are affected by the revenue the company is going to make in the coming months and for these plans to be as effective as they are planned to be it is important for these forecasts to also be as good.\n",
        "\n",
        "The work here forecasts the sales of the various Rossmann stores across Europe for the recent six weeks and compares the results from the models developed with the actual sales values.\n",
        "\n",
        "Some important conclusions drawn from the analysis are as follows:\n"
      ],
      "metadata": {
        "id": "HxQBk1HBkutM"
      }
    },
    {
      "cell_type": "code",
      "source": [
        "#predictions for six weeks\n",
        "\n",
        "y_pred_test = random_forest.predict(X_test)\n",
        "six_weeks_sales_df = y_test.copy()\n",
        "\n",
        "# Creating New column for the predicted sales.\n",
        "\n",
        "six_weeks_sales_df['Pred_Sales'] = y_pred_test.tolist()"
      ],
      "metadata": {
        "id": "S6YWqBL9kYbL"
      },
      "execution_count": null,
      "outputs": []
    },
    {
      "cell_type": "code",
      "source": [
        "six_weeks_sales_df.head()"
      ],
      "metadata": {
        "id": "itsiwOfwkYtT"
      },
      "execution_count": null,
      "outputs": []
    },
    {
      "cell_type": "code",
      "source": [
        "six_weeks_sales_df.describe()"
      ],
      "metadata": {
        "id": "114K9lNekY4h"
      },
      "execution_count": null,
      "outputs": []
    },
    {
      "cell_type": "code",
      "source": [
        "# Scaling\n",
        "# importing minmax scaler\n",
        "\n",
        "from sklearn.preprocessing import MinMaxScaler\n",
        "\n",
        "# Fitting to the original data\n",
        "\n",
        "cleaned_unscaled_data= pd.read_csv(\"/content/drive/MyDrive/Colab Notebooks/AlmaBetter/Capstone_project/Regression_sale prediction/Data/df_cleaned.csv\")\n",
        "\n",
        "#Fitting numerical columns\n",
        "\n",
        "numerical_cols = ['Sales']\n",
        "scaler = MinMaxScaler()\n",
        "scaler.fit(cleaned_unscaled_data[numerical_cols])"
      ],
      "metadata": {
        "id": "c3wX49IIkY8G"
      },
      "execution_count": null,
      "outputs": []
    },
    {
      "cell_type": "code",
      "source": [
        "six_weeks_sales_df.head()"
      ],
      "metadata": {
        "id": "3JSsw0VblPVy"
      },
      "execution_count": null,
      "outputs": []
    },
    {
      "cell_type": "code",
      "source": [
        "# Inverse Transform on Six weeks sales dataset\n",
        "# Inverse Transform applicable on each column of the dataset.\n",
        "\n",
        "six_weeks_sales_df[['Sales']] = scaler.inverse_transform(six_weeks_sales_df[['Sales']])\n",
        "six_weeks_sales_df[['Pred_Sales']] = scaler.inverse_transform(six_weeks_sales_df[['Pred_Sales']])\n"
      ],
      "metadata": {
        "id": "4YSaEdr4lS5B"
      },
      "execution_count": null,
      "outputs": []
    },
    {
      "cell_type": "code",
      "source": [
        "six_weeks_sales_df.head()"
      ],
      "metadata": {
        "id": "lZum7Xmylfms"
      },
      "execution_count": null,
      "outputs": []
    },
    {
      "cell_type": "code",
      "source": [
        "# Randomly Selecting a \"Date\" and \"store\" to get Actual sales vs predicted sales\n",
        "six_weeks_sales_df.loc[('2015-06-17',2)]"
      ],
      "metadata": {
        "id": "w-05JOK6lkRk"
      },
      "execution_count": null,
      "outputs": []
    },
    {
      "cell_type": "code",
      "source": [
        "# Randomly Selecting a \"Date\" and \"store\" to get Actual sales vs predicted sales\n",
        "six_weeks_sales_df.loc[('2015-07-28',10)]\n"
      ],
      "metadata": {
        "id": "nM8nc9UDlpPD"
      },
      "execution_count": null,
      "outputs": []
    },
    {
      "cell_type": "markdown",
      "source": [
        "### ***Thank you***"
      ],
      "metadata": {
        "id": "gIfDvo9L0UH2"
      }
    }
  ]
}